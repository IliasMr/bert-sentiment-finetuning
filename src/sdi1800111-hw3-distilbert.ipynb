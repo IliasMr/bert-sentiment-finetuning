{
 "cells": [
  {
   "cell_type": "markdown",
   "id": "f9bd091a",
   "metadata": {
    "papermill": {
     "duration": 0.00513,
     "end_time": "2025-05-25T16:46:43.750204",
     "exception": false,
     "start_time": "2025-05-25T16:46:43.745074",
     "status": "completed"
    },
    "tags": []
   },
   "source": [
    "## A. Data reading"
   ]
  },
  {
   "cell_type": "markdown",
   "id": "386393d3",
   "metadata": {
    "papermill": {
     "duration": 0.003916,
     "end_time": "2025-05-25T16:46:43.758405",
     "exception": false,
     "start_time": "2025-05-25T16:46:43.754489",
     "status": "completed"
    },
    "tags": []
   },
   "source": [
    "*Notes:* \n",
    "- In this notebook, I briefly mention the steps I followed for completing the project. A more detailed analysis exists on the respective report pdf.\n",
    "- I keep here all of the code I used during my experiments, even though it may not be used for the final model.\n",
    "- For this ipynb, I skiped the data analysis part, as it already exists on the ipynb file for the BERT model."
   ]
  },
  {
   "cell_type": "code",
   "execution_count": 1,
   "id": "890688e3",
   "metadata": {
    "_cell_guid": "b1076dfc-b9ad-4769-8c92-a6c4dae69d19",
    "_uuid": "8f2839f25d086af736a60e9eeb907d3b93b6e0e5",
    "execution": {
     "iopub.execute_input": "2025-05-25T16:46:43.768505Z",
     "iopub.status.busy": "2025-05-25T16:46:43.768253Z",
     "iopub.status.idle": "2025-05-25T16:47:11.529394Z",
     "shell.execute_reply": "2025-05-25T16:47:11.528809Z"
    },
    "papermill": {
     "duration": 27.768511,
     "end_time": "2025-05-25T16:47:11.530961",
     "exception": false,
     "start_time": "2025-05-25T16:46:43.762450",
     "status": "completed"
    },
    "tags": []
   },
   "outputs": [
    {
     "name": "stderr",
     "output_type": "stream",
     "text": [
      "2025-05-25 16:47:01.043690: E external/local_xla/xla/stream_executor/cuda/cuda_fft.cc:477] Unable to register cuFFT factory: Attempting to register factory for plugin cuFFT when one has already been registered\n",
      "WARNING: All log messages before absl::InitializeLog() is called are written to STDERR\n",
      "E0000 00:00:1748191621.224396      19 cuda_dnn.cc:8310] Unable to register cuDNN factory: Attempting to register factory for plugin cuDNN when one has already been registered\n",
      "E0000 00:00:1748191621.274106      19 cuda_blas.cc:1418] Unable to register cuBLAS factory: Attempting to register factory for plugin cuBLAS when one has already been registered\n"
     ]
    }
   ],
   "source": [
    "import pandas as pd \n",
    "import numpy as np\n",
    "import re \n",
    "from sklearn.metrics import accuracy_score, classification_report, roc_curve, auc, confusion_matrix, ConfusionMatrixDisplay, precision_score, recall_score, f1_score,precision_recall_fscore_support \n",
    "import matplotlib.pyplot as plt\n",
    "import seaborn as sns\n",
    "from collections import Counter\n",
    "from wordcloud import STOPWORDS\n",
    "import nltk\n",
    "from nltk.stem import PorterStemmer\n",
    "from nltk.tokenize import word_tokenize\n",
    "from nltk.corpus import stopwords\n",
    "from wordcloud import WordCloud\n",
    "from nltk.stem import WordNetLemmatizer\n",
    "import torch\n",
    "import warnings\n",
    "from tqdm import tqdm\n",
    "import torch.nn as nn\n",
    "from torch.utils.data import DataLoader, Dataset\n",
    "import torch.optim as optim\n",
    "import random\n",
    "from transformers import DistilBertTokenizer, DistilBertForSequenceClassification, get_linear_schedule_with_warmup\n",
    "from torch.optim import AdamW\n",
    "import shutil\n",
    "\n",
    "# supress warnings\n",
    "warnings.filterwarnings('ignore')"
   ]
  },
  {
   "cell_type": "markdown",
   "id": "d359e1bc",
   "metadata": {
    "papermill": {
     "duration": 0.004148,
     "end_time": "2025-05-25T16:47:11.539915",
     "exception": false,
     "start_time": "2025-05-25T16:47:11.535767",
     "status": "completed"
    },
    "tags": []
   },
   "source": [
    "Random seed for reprodicibility and GPU."
   ]
  },
  {
   "cell_type": "code",
   "execution_count": 2,
   "id": "a976281a",
   "metadata": {
    "execution": {
     "iopub.execute_input": "2025-05-25T16:47:11.549951Z",
     "iopub.status.busy": "2025-05-25T16:47:11.549136Z",
     "iopub.status.idle": "2025-05-25T16:47:11.557502Z",
     "shell.execute_reply": "2025-05-25T16:47:11.556931Z"
    },
    "papermill": {
     "duration": 0.014453,
     "end_time": "2025-05-25T16:47:11.558602",
     "exception": false,
     "start_time": "2025-05-25T16:47:11.544149",
     "status": "completed"
    },
    "tags": []
   },
   "outputs": [
    {
     "name": "stdout",
     "output_type": "stream",
     "text": [
      "Using device: cuda\n"
     ]
    }
   ],
   "source": [
    "SEED = 43 \n",
    "random.seed(SEED)\n",
    "np.random.seed(SEED)\n",
    "torch.manual_seed(SEED)\n",
    "torch.cuda.manual_seed_all(SEED)\n",
    "\n",
    "#use gpu \n",
    "device = torch.device(\"cuda\" if torch.cuda.is_available() else \"cpu\")\n",
    "print(f\"Using device: {device}\")"
   ]
  },
  {
   "cell_type": "markdown",
   "id": "f672fb48",
   "metadata": {
    "papermill": {
     "duration": 0.003998,
     "end_time": "2025-05-25T16:47:11.566989",
     "exception": false,
     "start_time": "2025-05-25T16:47:11.562991",
     "status": "completed"
    },
    "tags": []
   },
   "source": [
    "Reading the datasets"
   ]
  },
  {
   "cell_type": "code",
   "execution_count": 3,
   "id": "f960ce53",
   "metadata": {
    "execution": {
     "iopub.execute_input": "2025-05-25T16:47:11.576095Z",
     "iopub.status.busy": "2025-05-25T16:47:11.575891Z",
     "iopub.status.idle": "2025-05-25T16:47:12.249512Z",
     "shell.execute_reply": "2025-05-25T16:47:12.248693Z"
    },
    "papermill": {
     "duration": 0.679822,
     "end_time": "2025-05-25T16:47:12.250923",
     "exception": false,
     "start_time": "2025-05-25T16:47:11.571101",
     "status": "completed"
    },
    "tags": []
   },
   "outputs": [
    {
     "name": "stdout",
     "output_type": "stream",
     "text": [
      "        ID                                               Text  Label\n",
      "0   189385      @whoisralphie dude  I'm so bummed ur leaving!      0\n",
      "1    58036  oh my god, a severed foot was foun in a wheely...      0\n",
      "2   190139  I end up &quot;dog dialing&quot; sumtimes. Wha...      1\n",
      "3    99313                         @_rachelx meeeee toooooo!       0\n",
      "4   157825  I was hoping I could stay home and work today,...      0\n",
      "5   130560  says plurk karma finally reached the 50s. stil...      0\n",
      "6   121871  Good to hear it @Arth This is a bit more, but ...      1\n",
      "7    86813  @davorg in that case im gonna start tweeting a...      1\n",
      "8   197517          @belunyc its alright love, how are you?        1\n",
      "9     6937  @brightondoll haha that has to be the best ana...      1\n",
      "10   92703  @AlpacaFarmgirl Biscuit is our cat. We've had ...      0\n",
      "11  197003  @1capplegate I'm so sad about Sam Who  it was ...      0\n",
      "12   23724  trying to stay healthy. 2 of 4 of this Devine ...      0\n",
      "13   23205  My bro stole my big bag, my pink bag is gone. ...      0\n",
      "14  155089               my hair wont go right! sighsighsigh       0\n",
      "15   16559     I got bored so I slept, now I'm a little sad.       0\n",
      "16  104220  @LunaBellaMUA   I'm probably being blonde...bu...      1\n",
      "17  161260  @janinaz love this game on PS3 too ^^ i think ...      1\n",
      "18  104591                         Mad World - Adam Lambert.       1\n",
      "19  202716  @suepainter Noticed our bluebirds are bluer th...      0\n",
      "\n"
     ]
    },
    {
     "data": {
      "text/html": [
       "<div>\n",
       "<style scoped>\n",
       "    .dataframe tbody tr th:only-of-type {\n",
       "        vertical-align: middle;\n",
       "    }\n",
       "\n",
       "    .dataframe tbody tr th {\n",
       "        vertical-align: top;\n",
       "    }\n",
       "\n",
       "    .dataframe thead th {\n",
       "        text-align: right;\n",
       "    }\n",
       "</style>\n",
       "<table border=\"1\" class=\"dataframe\">\n",
       "  <thead>\n",
       "    <tr style=\"text-align: right;\">\n",
       "      <th></th>\n",
       "      <th>ID</th>\n",
       "      <th>Label</th>\n",
       "    </tr>\n",
       "  </thead>\n",
       "  <tbody>\n",
       "    <tr>\n",
       "      <th>count</th>\n",
       "      <td>148388.000000</td>\n",
       "      <td>148388.000000</td>\n",
       "    </tr>\n",
       "    <tr>\n",
       "      <th>mean</th>\n",
       "      <td>106024.578699</td>\n",
       "      <td>0.500013</td>\n",
       "    </tr>\n",
       "    <tr>\n",
       "      <th>std</th>\n",
       "      <td>61150.300085</td>\n",
       "      <td>0.500002</td>\n",
       "    </tr>\n",
       "    <tr>\n",
       "      <th>min</th>\n",
       "      <td>0.000000</td>\n",
       "      <td>0.000000</td>\n",
       "    </tr>\n",
       "    <tr>\n",
       "      <th>25%</th>\n",
       "      <td>53237.500000</td>\n",
       "      <td>0.000000</td>\n",
       "    </tr>\n",
       "    <tr>\n",
       "      <th>50%</th>\n",
       "      <td>105998.000000</td>\n",
       "      <td>1.000000</td>\n",
       "    </tr>\n",
       "    <tr>\n",
       "      <th>75%</th>\n",
       "      <td>158927.250000</td>\n",
       "      <td>1.000000</td>\n",
       "    </tr>\n",
       "    <tr>\n",
       "      <th>max</th>\n",
       "      <td>211981.000000</td>\n",
       "      <td>1.000000</td>\n",
       "    </tr>\n",
       "  </tbody>\n",
       "</table>\n",
       "</div>"
      ],
      "text/plain": [
       "                  ID          Label\n",
       "count  148388.000000  148388.000000\n",
       "mean   106024.578699       0.500013\n",
       "std     61150.300085       0.500002\n",
       "min         0.000000       0.000000\n",
       "25%     53237.500000       0.000000\n",
       "50%    105998.000000       1.000000\n",
       "75%    158927.250000       1.000000\n",
       "max    211981.000000       1.000000"
      ]
     },
     "execution_count": 3,
     "metadata": {},
     "output_type": "execute_result"
    }
   ],
   "source": [
    "train_df = pd.read_csv(\"/kaggle/input/ai-2-dl-for-nlp-2025-homework-3-distil-bert/train_dataset.csv\")\n",
    "test_df = pd.read_csv(\"/kaggle/input/ai-2-dl-for-nlp-2025-homework-3-distil-bert/test_dataset.csv\")\n",
    "val_df = pd.read_csv(\"/kaggle/input/ai-2-dl-for-nlp-2025-homework-3-distil-bert/val_dataset.csv\")\n",
    "\n",
    "print(f\"{train_df.head(20)}\\n\")\n",
    "train_df.describe()"
   ]
  },
  {
   "cell_type": "markdown",
   "id": "1c2613b6",
   "metadata": {
    "papermill": {
     "duration": 0.006579,
     "end_time": "2025-05-25T16:47:12.263722",
     "exception": false,
     "start_time": "2025-05-25T16:47:12.257143",
     "status": "completed"
    },
    "tags": []
   },
   "source": [
    "## B. Data preprocessing"
   ]
  },
  {
   "cell_type": "markdown",
   "id": "02465339",
   "metadata": {
    "papermill": {
     "duration": 0.004376,
     "end_time": "2025-05-25T16:47:12.273956",
     "exception": false,
     "start_time": "2025-05-25T16:47:12.269580",
     "status": "completed"
    },
    "tags": []
   },
   "source": [
    "\n",
    "preprocess() func returns the proccesed text. <br>\n",
    "We use the same preprocesssing as for the Bert model."
   ]
  },
  {
   "cell_type": "code",
   "execution_count": 4,
   "id": "0230cbb2",
   "metadata": {
    "execution": {
     "iopub.execute_input": "2025-05-25T16:47:12.283671Z",
     "iopub.status.busy": "2025-05-25T16:47:12.283431Z",
     "iopub.status.idle": "2025-05-25T16:47:12.287651Z",
     "shell.execute_reply": "2025-05-25T16:47:12.286976Z"
    },
    "papermill": {
     "duration": 0.010587,
     "end_time": "2025-05-25T16:47:12.288812",
     "exception": false,
     "start_time": "2025-05-25T16:47:12.278225",
     "status": "completed"
    },
    "tags": []
   },
   "outputs": [],
   "source": [
    "def preprocess(text):\n",
    "    # urls\n",
    "    text = re.sub(r\"http\\S+|www\\S+|https\\S+\", \"[URL]\", text, flags=re.MULTILINE)\n",
    "    # html\n",
    "    text = re.sub(r\"&\\w+;\", \"\", text)\n",
    "    # mentions \n",
    "    text = re.sub(r\"@\\w+\", \"@user\", text)\n",
    "    # whitespace\n",
    "    text = re.sub(r\"\\s+\", \" \", text).strip()\n",
    "\n",
    "    return text"
   ]
  },
  {
   "cell_type": "markdown",
   "id": "e105438d",
   "metadata": {
    "papermill": {
     "duration": 0.004496,
     "end_time": "2025-05-25T16:47:12.297725",
     "exception": false,
     "start_time": "2025-05-25T16:47:12.293229",
     "status": "completed"
    },
    "tags": []
   },
   "source": [
    "remove_stopwords() func removes the stopwords for the given text. <br>\n",
    "We will only use it if removing them boosts our model's performance."
   ]
  },
  {
   "cell_type": "code",
   "execution_count": 5,
   "id": "0b7c3985",
   "metadata": {
    "execution": {
     "iopub.execute_input": "2025-05-25T16:47:12.308430Z",
     "iopub.status.busy": "2025-05-25T16:47:12.308219Z",
     "iopub.status.idle": "2025-05-25T16:47:12.312099Z",
     "shell.execute_reply": "2025-05-25T16:47:12.311588Z"
    },
    "papermill": {
     "duration": 0.009919,
     "end_time": "2025-05-25T16:47:12.313050",
     "exception": false,
     "start_time": "2025-05-25T16:47:12.303131",
     "status": "completed"
    },
    "tags": []
   },
   "outputs": [],
   "source": [
    "customStop = {'im', 'u', 'them', 'this', 'that', 'these', 'those', 'and'}\n",
    "\n",
    "def remove_stopwords(text):\n",
    "    stopWords = set(stopwords.words('english'))\n",
    "    stopWords.update(customStop)\n",
    "    wordToks = word_tokenize(text.lower())  \n",
    "    newText = [word for word in wordToks if word not in stopWords and word.isalnum()]\n",
    "    return ' '.join(newText)"
   ]
  },
  {
   "cell_type": "markdown",
   "id": "2d6f2f40",
   "metadata": {
    "papermill": {
     "duration": 0.004268,
     "end_time": "2025-05-25T16:47:12.321685",
     "exception": false,
     "start_time": "2025-05-25T16:47:12.317417",
     "status": "completed"
    },
    "tags": []
   },
   "source": [
    "lemm_text() and stem_text() are used for text lemmatization and stemming. <br>\n",
    "Again, we will only use these techniques if they boost our model's performance."
   ]
  },
  {
   "cell_type": "code",
   "execution_count": 6,
   "id": "98bab213",
   "metadata": {
    "execution": {
     "iopub.execute_input": "2025-05-25T16:47:12.332056Z",
     "iopub.status.busy": "2025-05-25T16:47:12.331845Z",
     "iopub.status.idle": "2025-05-25T16:47:12.335938Z",
     "shell.execute_reply": "2025-05-25T16:47:12.335407Z"
    },
    "papermill": {
     "duration": 0.0101,
     "end_time": "2025-05-25T16:47:12.336956",
     "exception": false,
     "start_time": "2025-05-25T16:47:12.326856",
     "status": "completed"
    },
    "tags": []
   },
   "outputs": [],
   "source": [
    "nltk.data.path.append(\"/kaggle/input/wordnet/\")\n",
    "lemmatizer = WordNetLemmatizer()\n",
    "stemmer = PorterStemmer()\n",
    "\n",
    "def lemmatize_text(text):\n",
    "    words = word_tokenize(text)\n",
    "    return \" \".join([lemmatizer.lemmatize(word) for word in words])\n",
    "\n",
    "def stem_text(text):\n",
    "    words = nltk.word_tokenize(text)\n",
    "    return ' '.join([stemmer.stem(word) for word in words])"
   ]
  },
  {
   "cell_type": "markdown",
   "id": "c1282580",
   "metadata": {
    "papermill": {
     "duration": 0.004357,
     "end_time": "2025-05-25T16:47:12.345769",
     "exception": false,
     "start_time": "2025-05-25T16:47:12.341412",
     "status": "completed"
    },
    "tags": []
   },
   "source": [
    "Apply preprocessing"
   ]
  },
  {
   "cell_type": "code",
   "execution_count": 7,
   "id": "d3cf1f05",
   "metadata": {
    "execution": {
     "iopub.execute_input": "2025-05-25T16:47:12.355807Z",
     "iopub.status.busy": "2025-05-25T16:47:12.355568Z",
     "iopub.status.idle": "2025-05-25T16:47:13.978135Z",
     "shell.execute_reply": "2025-05-25T16:47:13.977357Z"
    },
    "papermill": {
     "duration": 1.628816,
     "end_time": "2025-05-25T16:47:13.979318",
     "exception": false,
     "start_time": "2025-05-25T16:47:12.350502",
     "status": "completed"
    },
    "tags": []
   },
   "outputs": [
    {
     "name": "stdout",
     "output_type": "stream",
     "text": [
      "        ID                                               Text  Label\n",
      "0   189385               @user dude I'm so bummed ur leaving!      0\n",
      "1    58036  oh my god, a severed foot was foun in a wheely...      0\n",
      "2   190139  I end up dog dialing sumtimes. What's dog dial...      1\n",
      "3    99313                              @user meeeee toooooo!      0\n",
      "4   157825  I was hoping I could stay home and work today,...      0\n",
      "5   130560  says plurk karma finally reached the 50s. stil...      0\n",
      "6   121871  Good to hear it @user This is a bit more, but ...      1\n",
      "7    86813  @user in that case im gonna start tweeting abo...      1\n",
      "8   197517               @user its alright love, how are you?      1\n",
      "9     6937  @user haha that has to be the best analogy eve...      1\n",
      "10   92703  @user Biscuit is our cat. We've had him for 4 ...      0\n",
      "11  197003  @user I'm so sad about Sam Who it was my favor...      0\n",
      "12   23724  trying to stay healthy. 2 of 4 of this Devine ...      0\n",
      "13   23205  My bro stole my big bag, my pink bag is gone. ...      0\n",
      "14  155089                my hair wont go right! sighsighsigh      0\n",
      "15   16559      I got bored so I slept, now I'm a little sad.      0\n",
      "16  104220  @user I'm probably being blonde...but my react...      1\n",
      "17  161260  @user love this game on PS3 too ^^ i think it'...      1\n",
      "18  104591                          Mad World - Adam Lambert.      1\n",
      "19  202716  @user Noticed our bluebirds are bluer than usu...      0\n",
      "\n"
     ]
    },
    {
     "data": {
      "text/html": [
       "<div>\n",
       "<style scoped>\n",
       "    .dataframe tbody tr th:only-of-type {\n",
       "        vertical-align: middle;\n",
       "    }\n",
       "\n",
       "    .dataframe tbody tr th {\n",
       "        vertical-align: top;\n",
       "    }\n",
       "\n",
       "    .dataframe thead th {\n",
       "        text-align: right;\n",
       "    }\n",
       "</style>\n",
       "<table border=\"1\" class=\"dataframe\">\n",
       "  <thead>\n",
       "    <tr style=\"text-align: right;\">\n",
       "      <th></th>\n",
       "      <th>ID</th>\n",
       "      <th>Label</th>\n",
       "    </tr>\n",
       "  </thead>\n",
       "  <tbody>\n",
       "    <tr>\n",
       "      <th>count</th>\n",
       "      <td>148388.000000</td>\n",
       "      <td>148388.000000</td>\n",
       "    </tr>\n",
       "    <tr>\n",
       "      <th>mean</th>\n",
       "      <td>106024.578699</td>\n",
       "      <td>0.500013</td>\n",
       "    </tr>\n",
       "    <tr>\n",
       "      <th>std</th>\n",
       "      <td>61150.300085</td>\n",
       "      <td>0.500002</td>\n",
       "    </tr>\n",
       "    <tr>\n",
       "      <th>min</th>\n",
       "      <td>0.000000</td>\n",
       "      <td>0.000000</td>\n",
       "    </tr>\n",
       "    <tr>\n",
       "      <th>25%</th>\n",
       "      <td>53237.500000</td>\n",
       "      <td>0.000000</td>\n",
       "    </tr>\n",
       "    <tr>\n",
       "      <th>50%</th>\n",
       "      <td>105998.000000</td>\n",
       "      <td>1.000000</td>\n",
       "    </tr>\n",
       "    <tr>\n",
       "      <th>75%</th>\n",
       "      <td>158927.250000</td>\n",
       "      <td>1.000000</td>\n",
       "    </tr>\n",
       "    <tr>\n",
       "      <th>max</th>\n",
       "      <td>211981.000000</td>\n",
       "      <td>1.000000</td>\n",
       "    </tr>\n",
       "  </tbody>\n",
       "</table>\n",
       "</div>"
      ],
      "text/plain": [
       "                  ID          Label\n",
       "count  148388.000000  148388.000000\n",
       "mean   106024.578699       0.500013\n",
       "std     61150.300085       0.500002\n",
       "min         0.000000       0.000000\n",
       "25%     53237.500000       0.000000\n",
       "50%    105998.000000       1.000000\n",
       "75%    158927.250000       1.000000\n",
       "max    211981.000000       1.000000"
      ]
     },
     "execution_count": 7,
     "metadata": {},
     "output_type": "execute_result"
    }
   ],
   "source": [
    "#nltk.download(\"punkt\")\n",
    "#nltk.download('punkt_tab')\n",
    "\n",
    "# preprocess\n",
    "train_df[\"Text\"] = train_df[\"Text\"].apply(preprocess)\n",
    "val_df[\"Text\"] = val_df[\"Text\"].apply(preprocess)\n",
    "test_df[\"Text\"] = test_df[\"Text\"].apply(preprocess)\n",
    "\n",
    "# drop any rows that preprocess func returned as None\n",
    "# train_df = train_df.dropna(subset=[\"Text\"]).reset_index(drop=True)\n",
    "# val_df = val_df.dropna(subset=[\"Text\"]).reset_index(drop=True)\n",
    "\n",
    "# stopwords removal\n",
    "# train_df[\"Text\"] = train_df[\"Text\"].apply(remove_stopwords)\n",
    "# val_df[\"Text\"] = val_df[\"Text\"].apply(remove_stopwords)\n",
    "# test_df[\"Text\"] = test_df[\"Text\"].apply(remove_stopwords)\n",
    "\n",
    "\n",
    "# stemming\n",
    "# train_df[\"Text\"] = train_df[\"Text\"].apply(stem_text)\n",
    "# val_df[\"Text\"] = val_df[\"Text\"].apply(stem_text)\n",
    "# test_df[\"Text\"] = test_df[\"Text\"].apply(stem_text)\n",
    "\n",
    "# lemmatize\n",
    "# train_df[\"Text\"] = train_df[\"Text\"].apply(lemmatize_text)\n",
    "# val_df[\"Text\"] = val_df[\"Text\"].apply(lemmatize_text)\n",
    "# test_df[\"Text\"] = test_df[\"Text\"].apply(lemmatize_text)\n",
    "\n",
    "print(f\"{train_df.head(20)}\\n\")\n",
    "train_df.describe()"
   ]
  },
  {
   "cell_type": "markdown",
   "id": "84567080",
   "metadata": {
    "papermill": {
     "duration": 0.004742,
     "end_time": "2025-05-25T16:47:13.989320",
     "exception": false,
     "start_time": "2025-05-25T16:47:13.984578",
     "status": "completed"
    },
    "tags": []
   },
   "source": [
    "## C. Vectorization"
   ]
  },
  {
   "cell_type": "markdown",
   "id": "9acc9f1b",
   "metadata": {
    "papermill": {
     "duration": 0.004371,
     "end_time": "2025-05-25T16:47:13.998239",
     "exception": false,
     "start_time": "2025-05-25T16:47:13.993868",
     "status": "completed"
    },
    "tags": []
   },
   "source": [
    "We will use DistilBertTokenizer for tokenization with the the pretrained model 'distilbert-base-uncased'."
   ]
  },
  {
   "cell_type": "code",
   "execution_count": 8,
   "id": "d2400ef0",
   "metadata": {
    "execution": {
     "iopub.execute_input": "2025-05-25T16:47:14.009808Z",
     "iopub.status.busy": "2025-05-25T16:47:14.009332Z",
     "iopub.status.idle": "2025-05-25T16:47:15.336420Z",
     "shell.execute_reply": "2025-05-25T16:47:15.335825Z"
    },
    "papermill": {
     "duration": 1.334594,
     "end_time": "2025-05-25T16:47:15.337902",
     "exception": false,
     "start_time": "2025-05-25T16:47:14.003308",
     "status": "completed"
    },
    "tags": []
   },
   "outputs": [
    {
     "data": {
      "application/vnd.jupyter.widget-view+json": {
       "model_id": "384f36faeed64c2686373c39bce33ef0",
       "version_major": 2,
       "version_minor": 0
      },
      "text/plain": [
       "tokenizer_config.json:   0%|          | 0.00/48.0 [00:00<?, ?B/s]"
      ]
     },
     "metadata": {},
     "output_type": "display_data"
    },
    {
     "data": {
      "application/vnd.jupyter.widget-view+json": {
       "model_id": "29c66722c09d4f3e9bac4ccff2a20f1c",
       "version_major": 2,
       "version_minor": 0
      },
      "text/plain": [
       "vocab.txt:   0%|          | 0.00/232k [00:00<?, ?B/s]"
      ]
     },
     "metadata": {},
     "output_type": "display_data"
    },
    {
     "data": {
      "application/vnd.jupyter.widget-view+json": {
       "model_id": "02cde2b7d1904a2e823ca4faf75bb727",
       "version_major": 2,
       "version_minor": 0
      },
      "text/plain": [
       "tokenizer.json:   0%|          | 0.00/466k [00:00<?, ?B/s]"
      ]
     },
     "metadata": {},
     "output_type": "display_data"
    },
    {
     "data": {
      "application/vnd.jupyter.widget-view+json": {
       "model_id": "45eba86d7be94891b388b58af13d360d",
       "version_major": 2,
       "version_minor": 0
      },
      "text/plain": [
       "config.json:   0%|          | 0.00/483 [00:00<?, ?B/s]"
      ]
     },
     "metadata": {},
     "output_type": "display_data"
    }
   ],
   "source": [
    "tokenizer = DistilBertTokenizer.from_pretrained('distilbert-base-uncased')"
   ]
  },
  {
   "cell_type": "markdown",
   "id": "f7c24734",
   "metadata": {
    "papermill": {
     "duration": 0.00483,
     "end_time": "2025-05-25T16:47:15.348518",
     "exception": false,
     "start_time": "2025-05-25T16:47:15.343688",
     "status": "completed"
    },
    "tags": []
   },
   "source": [
    "We define a custom TwitterDataset class for handling data tokenization and converting to tensors for PyTorch ."
   ]
  },
  {
   "cell_type": "code",
   "execution_count": 9,
   "id": "53218501",
   "metadata": {
    "execution": {
     "iopub.execute_input": "2025-05-25T16:47:15.359734Z",
     "iopub.status.busy": "2025-05-25T16:47:15.359139Z",
     "iopub.status.idle": "2025-05-25T16:47:15.365143Z",
     "shell.execute_reply": "2025-05-25T16:47:15.364391Z"
    },
    "papermill": {
     "duration": 0.012816,
     "end_time": "2025-05-25T16:47:15.366262",
     "exception": false,
     "start_time": "2025-05-25T16:47:15.353446",
     "status": "completed"
    },
    "tags": []
   },
   "outputs": [],
   "source": [
    "class TwitterDataset(Dataset):\n",
    "    def __init__(self, texts, labels=None, tokenizer=None, max_length=128):\n",
    "        self.texts = texts\n",
    "        self.labels = labels\n",
    "        self.tokenizer = tokenizer   # DistilBertTokenizer\n",
    "        self.max_length = max_length # max tokens length\n",
    "        \n",
    "    def __len__(self):\n",
    "        return len(self.texts)\n",
    "    \n",
    "    def __getitem__(self, idx):\n",
    "        text = str(self.texts[idx])\n",
    "        \n",
    "        # tokenizing\n",
    "        encoding = self.tokenizer(\n",
    "            text,\n",
    "            add_special_tokens=True,\n",
    "            max_length=self.max_length, # fixed max length \n",
    "            padding='max_length',  # pad to max length\n",
    "            truncation=True,    # truncate longer\n",
    "            return_tensors='pt'\n",
    "        )\n",
    "        \n",
    "        # to tensors \n",
    "        input_ids = encoding['input_ids'].squeeze()\n",
    "        attention_mask = encoding['attention_mask'].squeeze()\n",
    "\n",
    "        # for train, val datasets\n",
    "        if self.labels is not None:\n",
    "            label = torch.tensor(self.labels[idx], dtype=torch.long)\n",
    "            return {\n",
    "                'input_ids': input_ids,\n",
    "                'attention_mask': attention_mask,\n",
    "                'labels': label\n",
    "            }\n",
    "        else: # test dataset\n",
    "            return {\n",
    "                'input_ids': input_ids,\n",
    "                'attention_mask': attention_mask\n",
    "            }"
   ]
  },
  {
   "cell_type": "markdown",
   "id": "681b0154",
   "metadata": {
    "papermill": {
     "duration": 0.004862,
     "end_time": "2025-05-25T16:47:15.376180",
     "exception": false,
     "start_time": "2025-05-25T16:47:15.371318",
     "status": "completed"
    },
    "tags": []
   },
   "source": [
    "Converting datasets"
   ]
  },
  {
   "cell_type": "code",
   "execution_count": 10,
   "id": "1eb534e0",
   "metadata": {
    "execution": {
     "iopub.execute_input": "2025-05-25T16:47:15.387005Z",
     "iopub.status.busy": "2025-05-25T16:47:15.386755Z",
     "iopub.status.idle": "2025-05-25T16:47:15.391970Z",
     "shell.execute_reply": "2025-05-25T16:47:15.391246Z"
    },
    "papermill": {
     "duration": 0.011949,
     "end_time": "2025-05-25T16:47:15.393110",
     "exception": false,
     "start_time": "2025-05-25T16:47:15.381161",
     "status": "completed"
    },
    "tags": []
   },
   "outputs": [],
   "source": [
    "train_dataset = TwitterDataset(\n",
    "    texts=train_df['Text'].values,\n",
    "    labels=train_df['Label'].values,  \n",
    "    tokenizer=tokenizer\n",
    ")\n",
    "\n",
    "val_dataset = TwitterDataset(\n",
    "    texts=val_df['Text'].values,\n",
    "    labels=val_df['Label'].values,  \n",
    "    tokenizer=tokenizer\n",
    ")\n",
    "\n",
    "test_dataset = TwitterDataset(\n",
    "    texts=test_df['Text'].values,\n",
    "    labels=None,\n",
    "    tokenizer=tokenizer\n",
    ")\n",
    "\n",
    "batch_size = 128\n",
    "train_loader = DataLoader(train_dataset, batch_size=batch_size, shuffle=True) # shuffle for train only\n",
    "val_loader = DataLoader(val_dataset, batch_size=batch_size)\n",
    "test_loader = DataLoader(test_dataset, batch_size=batch_size)"
   ]
  },
  {
   "cell_type": "markdown",
   "id": "51a6b054",
   "metadata": {
    "papermill": {
     "duration": 0.005006,
     "end_time": "2025-05-25T16:47:15.403031",
     "exception": false,
     "start_time": "2025-05-25T16:47:15.398025",
     "status": "completed"
    },
    "tags": []
   },
   "source": [
    "Setting up the model, initializing optimizer and scheduler."
   ]
  },
  {
   "cell_type": "code",
   "execution_count": 11,
   "id": "1dd1a657",
   "metadata": {
    "execution": {
     "iopub.execute_input": "2025-05-25T16:47:15.414015Z",
     "iopub.status.busy": "2025-05-25T16:47:15.413790Z",
     "iopub.status.idle": "2025-05-25T16:47:17.257914Z",
     "shell.execute_reply": "2025-05-25T16:47:17.257290Z"
    },
    "papermill": {
     "duration": 1.851225,
     "end_time": "2025-05-25T16:47:17.259213",
     "exception": false,
     "start_time": "2025-05-25T16:47:15.407988",
     "status": "completed"
    },
    "tags": []
   },
   "outputs": [
    {
     "name": "stderr",
     "output_type": "stream",
     "text": [
      "Xet Storage is enabled for this repo, but the 'hf_xet' package is not installed. Falling back to regular HTTP download. For better performance, install the package with: `pip install huggingface_hub[hf_xet]` or `pip install hf_xet`\n"
     ]
    },
    {
     "data": {
      "application/vnd.jupyter.widget-view+json": {
       "model_id": "e95da6eb129344c783a1f1289d8918d9",
       "version_major": 2,
       "version_minor": 0
      },
      "text/plain": [
       "model.safetensors:   0%|          | 0.00/268M [00:00<?, ?B/s]"
      ]
     },
     "metadata": {},
     "output_type": "display_data"
    },
    {
     "name": "stderr",
     "output_type": "stream",
     "text": [
      "Some weights of DistilBertForSequenceClassification were not initialized from the model checkpoint at distilbert-base-uncased and are newly initialized: ['classifier.bias', 'classifier.weight', 'pre_classifier.bias', 'pre_classifier.weight']\n",
      "You should probably TRAIN this model on a down-stream task to be able to use it for predictions and inference.\n"
     ]
    }
   ],
   "source": [
    "num_labels = len(train_df['Label'].unique())  \n",
    "model = DistilBertForSequenceClassification.from_pretrained('distilbert-base-uncased', num_labels=num_labels)\n",
    "model.to(device) # gpu \n",
    "\n",
    "optimizer = AdamW(model.parameters(), lr=5e-5, eps=1e-8, weight_decay=0.01) # TODO: add weight_decay\n",
    "\n",
    "# training epochs\n",
    "epochs = 2\n",
    "\n",
    "# total steps needed\n",
    "total_steps = len(train_loader) * epochs\n",
    "\n",
    "# learning rate scheduler with linear warmup\n",
    "scheduler = get_linear_schedule_with_warmup(\n",
    "    optimizer,\n",
    "    num_warmup_steps=0,     # TODO: also try 100 \n",
    "    num_training_steps=total_steps\n",
    ")"
   ]
  },
  {
   "cell_type": "markdown",
   "id": "0767d4f4",
   "metadata": {
    "papermill": {
     "duration": 0.005171,
     "end_time": "2025-05-25T16:47:17.270868",
     "exception": false,
     "start_time": "2025-05-25T16:47:17.265697",
     "status": "completed"
    },
    "tags": []
   },
   "source": [
    "## D. Model Training & Evaluation."
   ]
  },
  {
   "cell_type": "markdown",
   "id": "f397fc2f",
   "metadata": {
    "papermill": {
     "duration": 0.004909,
     "end_time": "2025-05-25T16:47:17.280817",
     "exception": false,
     "start_time": "2025-05-25T16:47:17.275908",
     "status": "completed"
    },
    "tags": []
   },
   "source": [
    "Defining the training process for an epoch"
   ]
  },
  {
   "cell_type": "code",
   "execution_count": 12,
   "id": "5d882323",
   "metadata": {
    "execution": {
     "iopub.execute_input": "2025-05-25T16:47:17.292097Z",
     "iopub.status.busy": "2025-05-25T16:47:17.291639Z",
     "iopub.status.idle": "2025-05-25T16:47:17.297984Z",
     "shell.execute_reply": "2025-05-25T16:47:17.297292Z"
    },
    "papermill": {
     "duration": 0.013076,
     "end_time": "2025-05-25T16:47:17.299007",
     "exception": false,
     "start_time": "2025-05-25T16:47:17.285931",
     "status": "completed"
    },
    "tags": []
   },
   "outputs": [],
   "source": [
    "def train_epoch(model, data_loader, optimizer, scheduler, device):\n",
    "    model.train()\n",
    "    \n",
    "    total_loss = 0\n",
    "    all_preds = []\n",
    "    all_labels = []\n",
    "    \n",
    "    # progress\n",
    "    progress_bar = tqdm(data_loader, desc=\"Training\")\n",
    "    \n",
    "    for batch in progress_bar:\n",
    "        # to gpu\n",
    "        input_ids = batch['input_ids'].to(device)\n",
    "        attention_mask = batch['attention_mask'].to(device)\n",
    "        labels = batch['labels'].to(device)\n",
    "        \n",
    "        # clear gradients\n",
    "        optimizer.zero_grad()\n",
    "        \n",
    "        # forward pass\n",
    "        outputs = model(\n",
    "            input_ids=input_ids,\n",
    "            attention_mask=attention_mask,\n",
    "            labels=labels\n",
    "        )\n",
    "\n",
    "        # save loss\n",
    "        loss = outputs.loss\n",
    "        total_loss += loss.item()\n",
    "        \n",
    "        # Backward pass\n",
    "        loss.backward()\n",
    "\n",
    "        # clip gradients\n",
    "        torch.nn.utils.clip_grad_norm_(model.parameters(), 1.0)\n",
    "        \n",
    "        # update parameters\n",
    "        optimizer.step()\n",
    "        scheduler.step()\n",
    "        \n",
    "        # get predictions\n",
    "        preds = torch.argmax(outputs.logits, dim=1).cpu().numpy()\n",
    "        all_preds.extend(preds)\n",
    "        all_labels.extend(labels.cpu().numpy())\n",
    "        \n",
    "        # update progress\n",
    "        progress_bar.set_postfix({'loss': f\"{loss.item():.4f}\"})\n",
    "    \n",
    "    # metrics for the epoch (train)\n",
    "    accuracy = accuracy_score(all_labels, all_preds)\n",
    "    precision, recall, f1, _ = precision_recall_fscore_support(all_labels, all_preds, average='weighted')\n",
    "    \n",
    "    return total_loss / len(data_loader), accuracy, precision, recall, f1"
   ]
  },
  {
   "cell_type": "markdown",
   "id": "63d3befd",
   "metadata": {
    "papermill": {
     "duration": 0.004818,
     "end_time": "2025-05-25T16:47:17.308884",
     "exception": false,
     "start_time": "2025-05-25T16:47:17.304066",
     "status": "completed"
    },
    "tags": []
   },
   "source": [
    "**evaluate()** func will be used to evaluate our model based on precision, recall, F1 and accuracy.\n",
    "We perform evaluation after each completed epoch, to keep track of model's performance during training."
   ]
  },
  {
   "cell_type": "code",
   "execution_count": 13,
   "id": "7647fb1d",
   "metadata": {
    "execution": {
     "iopub.execute_input": "2025-05-25T16:47:17.319946Z",
     "iopub.status.busy": "2025-05-25T16:47:17.319706Z",
     "iopub.status.idle": "2025-05-25T16:47:17.328887Z",
     "shell.execute_reply": "2025-05-25T16:47:17.328184Z"
    },
    "papermill": {
     "duration": 0.015939,
     "end_time": "2025-05-25T16:47:17.329934",
     "exception": false,
     "start_time": "2025-05-25T16:47:17.313995",
     "status": "completed"
    },
    "tags": []
   },
   "outputs": [],
   "source": [
    "def evaluate(model, data_loader, device, roc_flag, conf_flag):\n",
    "    model.eval()\n",
    "    total_loss = 0\n",
    "    all_preds = []\n",
    "    all_labels = []\n",
    "    all_probs = [] # to store probabilities for ROC\n",
    "    \n",
    "    progress_bar = tqdm(data_loader, desc=\"Evaluating\")\n",
    "    \n",
    "    with torch.no_grad():\n",
    "        for batch in progress_bar:\n",
    "            input_ids = batch['input_ids'].to(device)\n",
    "            attention_mask = batch['attention_mask'].to(device)\n",
    "            labels = batch['labels'].to(device)\n",
    "            \n",
    "            # forward pass\n",
    "            outputs = model(\n",
    "                input_ids=input_ids,\n",
    "                attention_mask=attention_mask,\n",
    "                labels=labels\n",
    "            )\n",
    "            # loss\n",
    "            loss = outputs.loss\n",
    "            total_loss += loss.item()\n",
    "            \n",
    "            # get predictions\n",
    "            logits = outputs.logits\n",
    "            probs = torch.softmax(logits, dim=1).cpu().numpy()\n",
    "            preds = torch.argmax(outputs.logits, dim=1).cpu().numpy()\n",
    "            \n",
    "            all_preds.extend(preds)\n",
    "            all_labels.extend(labels.cpu().numpy())\n",
    "            all_probs.extend(probs)\n",
    "            \n",
    "            # update progress\n",
    "            progress_bar.set_postfix({'loss': f\"{loss.item():.4f}\"})\n",
    "\n",
    "    ########################################\n",
    "    all_labels = np.array(all_labels)\n",
    "    all_preds = np.array(all_preds)\n",
    "    all_probs = np.array(all_probs)\n",
    "    ########################################\n",
    "    \n",
    "    # get metrics\n",
    "    accuracy = accuracy_score(all_labels, all_preds)\n",
    "    precision, recall, f1, _ = precision_recall_fscore_support(all_labels, all_preds, average='weighted')\n",
    "\n",
    "\n",
    "    ########################################\n",
    "    if roc_flag and conf_flag:\n",
    "        \n",
    "        # confusion matrix\n",
    "        plt.figure(figsize=(10, 8))\n",
    "        cm = confusion_matrix(all_labels, all_preds)\n",
    "        sns.heatmap(cm, annot=True, fmt='d', cmap='Blues', \n",
    "                    xticklabels=range(len(np.unique(all_labels))), \n",
    "                    yticklabels=range(len(np.unique(all_labels))))\n",
    "        plt.xlabel('Predicted')\n",
    "        plt.ylabel('True')\n",
    "        plt.title('Confusion Matrix')\n",
    "        plt.show()\n",
    "        #plt.savefig('Confusion-mtrx.png')\n",
    "        plt.close()\n",
    "\n",
    "        # roc curve\n",
    "        fpr, tpr, _ = roc_curve(all_labels, all_probs[:, 1])\n",
    "        roc_auc = auc(fpr, tpr)\n",
    "        \n",
    "        plt.figure(figsize=(8, 6))\n",
    "        plt.plot(fpr, tpr, color='darkorange', lw=2, label=f'ROC (AUC = {roc_auc:.2f})')\n",
    "        plt.plot([0, 1], [0, 1], color='navy', lw=2, linestyle='--')\n",
    "        plt.xlabel('False Positive Rate')\n",
    "        plt.ylabel('True Positive Rate')\n",
    "        plt.title('ROC Curve')\n",
    "        plt.legend(loc=\"lower right\")\n",
    "        plt.grid()\n",
    "        plt.show()\n",
    "            \n",
    "    \n",
    "    \n",
    "    return total_loss / len(data_loader), accuracy, precision, recall, f1"
   ]
  },
  {
   "cell_type": "markdown",
   "id": "47b022a7",
   "metadata": {
    "papermill": {
     "duration": 0.004926,
     "end_time": "2025-05-25T16:47:17.339959",
     "exception": false,
     "start_time": "2025-05-25T16:47:17.335033",
     "status": "completed"
    },
    "tags": []
   },
   "source": [
    "Training phase and evaluation for our final model\n"
   ]
  },
  {
   "cell_type": "code",
   "execution_count": 14,
   "id": "e42f2821",
   "metadata": {
    "execution": {
     "iopub.execute_input": "2025-05-25T16:47:17.400248Z",
     "iopub.status.busy": "2025-05-25T16:47:17.399990Z",
     "iopub.status.idle": "2025-05-25T17:20:32.107074Z",
     "shell.execute_reply": "2025-05-25T17:20:32.106118Z"
    },
    "papermill": {
     "duration": 1994.714355,
     "end_time": "2025-05-25T17:20:32.108315",
     "exception": false,
     "start_time": "2025-05-25T16:47:17.393960",
     "status": "completed"
    },
    "tags": []
   },
   "outputs": [
    {
     "name": "stdout",
     "output_type": "stream",
     "text": [
      "Epoch 1/2\n"
     ]
    },
    {
     "name": "stderr",
     "output_type": "stream",
     "text": [
      "Training: 100%|██████████| 1160/1160 [15:02<00:00,  1.29it/s, loss=0.3292]\n",
      "Evaluating: 100%|██████████| 332/332 [01:34<00:00,  3.50it/s, loss=0.3981]\n"
     ]
    },
    {
     "name": "stdout",
     "output_type": "stream",
     "text": [
      "Train Loss: 0.3908, Accuracy: 0.8232, Precision: 0.8232, Recall: 0.8232, F1: 0.8232\n",
      "Val Loss: 0.3540, Accuracy: 0.8433, Precision: 0.8437, Recall: 0.8433, F1: 0.8432\n",
      "Epoch 2/2\n"
     ]
    },
    {
     "name": "stderr",
     "output_type": "stream",
     "text": [
      "Training: 100%|██████████| 1160/1160 [15:02<00:00,  1.29it/s, loss=0.2427]\n",
      "Evaluating: 100%|██████████| 332/332 [01:34<00:00,  3.50it/s, loss=0.3335]\n"
     ]
    },
    {
     "data": {
      "image/png": "[encoded data removed]",
      "text/plain": [
       "<Figure size 1000x800 with 2 Axes>"
      ]
     },
     "metadata": {},
     "output_type": "display_data"
    },
    {
     "data": {
      "image/png": "[encoded data removed]",
      "text/plain": [
       "<Figure size 800x600 with 1 Axes>"
      ]
     },
     "metadata": {},
     "output_type": "display_data"
    },
    {
     "name": "stdout",
     "output_type": "stream",
     "text": [
      "Train Loss: 0.2887, Accuracy: 0.8790, Precision: 0.8790, Recall: 0.8790, F1: 0.8790\n",
      "Val Loss: 0.3562, Accuracy: 0.8485, Precision: 0.8486, Recall: 0.8485, F1: 0.8485\n"
     ]
    }
   ],
   "source": [
    "# to save metrics\n",
    "train_losses = []\n",
    "train_accuracies = []\n",
    "val_losses = []\n",
    "val_accuracies = []\n",
    "train_precisions = []\n",
    "train_recalls = []\n",
    "train_f1s = []\n",
    "val_precisions = []\n",
    "val_recalls = []\n",
    "val_f1s = []\n",
    "\n",
    "roc_flag = False\n",
    "conf_flag = False\n",
    "\n",
    "# main training loop \n",
    "for epoch in range(epochs):\n",
    "    print(f\"Epoch {epoch+1}/{epochs}\")\n",
    "    \n",
    "    # train\n",
    "    train_loss, train_acc, train_precision, train_recall, train_f1 = train_epoch(\n",
    "        model, train_loader, optimizer, scheduler, device\n",
    "    )\n",
    "    \n",
    "    # print curves on last epoch\n",
    "    if epoch == epochs-1:\n",
    "        roc_flag = True\n",
    "        conf_flag = True\n",
    "\n",
    "    # evaluate\n",
    "    val_loss, val_acc, val_precision, val_recall, val_f1 = evaluate(model, val_loader, device, roc_flag, conf_flag)\n",
    "    \n",
    "    # store every metric \n",
    "    train_losses.append(train_loss)\n",
    "    train_accuracies.append(train_acc)\n",
    "    train_precisions.append(train_precision)\n",
    "    train_recalls.append(train_recall)\n",
    "    train_f1s.append(train_f1)\n",
    "    \n",
    "    val_losses.append(val_loss)\n",
    "    val_accuracies.append(val_acc)\n",
    "    val_precisions.append(val_precision)\n",
    "    val_recalls.append(val_recall)\n",
    "    val_f1s.append(val_f1)\n",
    "    \n",
    "    print(f\"Train Loss: {train_loss:.4f}, Accuracy: {train_acc:.4f}, Precision: {train_precision:.4f}, Recall: {train_recall:.4f}, F1: {train_f1:.4f}\")\n",
    "    print(f\"Val Loss: {val_loss:.4f}, Accuracy: {val_acc:.4f}, Precision: {val_precision:.4f}, Recall: {val_recall:.4f}, F1: {val_f1:.4f}\")"
   ]
  },
  {
   "cell_type": "markdown",
   "id": "47238725",
   "metadata": {
    "papermill": {
     "duration": 0.232959,
     "end_time": "2025-05-25T17:20:32.577307",
     "exception": false,
     "start_time": "2025-05-25T17:20:32.344348",
     "status": "completed"
    },
    "tags": []
   },
   "source": [
    "Learning curves to evaluate how our model performs during the training phase."
   ]
  },
  {
   "cell_type": "code",
   "execution_count": 15,
   "id": "e60aa979",
   "metadata": {
    "execution": {
     "iopub.execute_input": "2025-05-25T17:20:33.043482Z",
     "iopub.status.busy": "2025-05-25T17:20:33.042807Z",
     "iopub.status.idle": "2025-05-25T17:20:33.383836Z",
     "shell.execute_reply": "2025-05-25T17:20:33.383016Z"
    },
    "papermill": {
     "duration": 0.575359,
     "end_time": "2025-05-25T17:20:33.385117",
     "exception": false,
     "start_time": "2025-05-25T17:20:32.809758",
     "status": "completed"
    },
    "tags": []
   },
   "outputs": [
    {
     "data": {
      "image/png": "[encoded data removed]",
      "text/plain": [
       "<Figure size 1500x1000 with 2 Axes>"
      ]
     },
     "metadata": {},
     "output_type": "display_data"
    }
   ],
   "source": [
    "# plots for training/validation\n",
    "plt.figure(figsize=(15, 10))\n",
    "\n",
    "# loss\n",
    "plt.subplot(2, 2, 1)\n",
    "plt.plot(range(1, epochs+1), train_losses, label='Train Loss')\n",
    "plt.plot(range(1, epochs+1), val_losses, label='Val Loss')\n",
    "plt.xlabel('Epoch')\n",
    "plt.ylabel('Loss')\n",
    "plt.title('Training and Validation Loss')\n",
    "plt.legend()\n",
    "\n",
    "# accuracy\n",
    "plt.subplot(2, 2, 2)\n",
    "plt.plot(range(1, epochs+1), train_accuracies, label='Train Accuracy')\n",
    "plt.plot(range(1, epochs+1), val_accuracies, label='Val Accuracy')\n",
    "plt.xlabel('Epoch')\n",
    "plt.ylabel('Accuracy')\n",
    "plt.title('Training and Validation Accuracy')\n",
    "plt.legend()\n",
    "\n",
    "plt.tight_layout()\n",
    "#plt.savefig('bert_training_metrics.png')\n",
    "plt.show()"
   ]
  },
  {
   "cell_type": "markdown",
   "id": "aa45d766",
   "metadata": {
    "papermill": {
     "duration": 0.240463,
     "end_time": "2025-05-25T17:20:33.912710",
     "exception": false,
     "start_time": "2025-05-25T17:20:33.672247",
     "status": "completed"
    },
    "tags": []
   },
   "source": [
    "Final predictions on test dataset and creation of the submission.csv."
   ]
  },
  {
   "cell_type": "code",
   "execution_count": 16,
   "id": "6549aeec",
   "metadata": {
    "execution": {
     "iopub.execute_input": "2025-05-25T17:20:34.455636Z",
     "iopub.status.busy": "2025-05-25T17:20:34.454888Z",
     "iopub.status.idle": "2025-05-25T17:21:21.267952Z",
     "shell.execute_reply": "2025-05-25T17:21:21.267237Z"
    },
    "papermill": {
     "duration": 47.091056,
     "end_time": "2025-05-25T17:21:21.269138",
     "exception": false,
     "start_time": "2025-05-25T17:20:34.178082",
     "status": "completed"
    },
    "tags": []
   },
   "outputs": [
    {
     "name": "stderr",
     "output_type": "stream",
     "text": [
      "Generating predictions: 100%|██████████| 166/166 [00:46<00:00,  3.55it/s]\n"
     ]
    }
   ],
   "source": [
    "model.eval()\n",
    "test_predictions = []\n",
    "\n",
    "# get predictions\n",
    "with torch.no_grad():\n",
    "    progress_bar = tqdm(test_loader, desc=\"Generating predictions\")\n",
    "    for batch in progress_bar:\n",
    "        input_ids = batch['input_ids'].to(device)\n",
    "        attention_mask = batch['attention_mask'].to(device)\n",
    "        \n",
    "        outputs = model(input_ids=input_ids, attention_mask=attention_mask)\n",
    "        preds = torch.argmax(outputs.logits, dim=1).cpu().numpy()\n",
    "        test_predictions.extend(preds)\n",
    "\n",
    "# save the final submission file\n",
    "submission = pd.DataFrame({\n",
    "    'ID': test_df[\"ID\"],\n",
    "    'Label': [int(pred) for pred in test_predictions]\n",
    "})\n",
    "\n",
    "submission.to_csv('submission.csv', index=False)"
   ]
  }
 ],
 "metadata": {
  "kaggle": {
   "accelerator": "gpu",
   "dataSources": [
    {
     "databundleVersionId": 11783285,
     "isSourceIdPinned": false,
     "sourceId": 98732,
     "sourceType": "competition"
    },
    {
     "datasetId": 3955561,
     "sourceId": 6885085,
     "sourceType": "datasetVersion"
    }
   ],
   "dockerImageVersionId": 31011,
   "isGpuEnabled": true,
   "isInternetEnabled": true,
   "language": "python",
   "sourceType": "notebook"
  },
  "kernelspec": {
   "display_name": "Python 3",
   "language": "python",
   "name": "python3"
  },
  "language_info": {
   "codemirror_mode": {
    "name": "ipython",
    "version": 3
   },
   "file_extension": ".py",
   "mimetype": "text/x-python",
   "name": "python",
   "nbconvert_exporter": "python",
   "pygments_lexer": "ipython3",
   "version": "3.11.11"
  },
  "papermill": {
   "default_parameters": {},
   "duration": 2085.300398,
   "end_time": "2025-05-25T17:21:24.780314",
   "environment_variables": {},
   "exception": null,
   "input_path": "__notebook__.ipynb",
   "output_path": "__notebook__.ipynb",
   "parameters": {},
   "start_time": "2025-05-25T16:46:39.479916",
   "version": "2.6.0"
  },
  "widgets": {
   "application/vnd.jupyter.widget-state+json": {
    "state": {
     "02cde2b7d1904a2e823ca4faf75bb727": {
      "model_module": "@jupyter-widgets/controls",
      "model_module_version": "2.0.0",
      "model_name": "HBoxModel",
      "state": {
       "_dom_classes": [],
       "_model_module": "@jupyter-widgets/controls",
       "_model_module_version": "2.0.0",
       "_model_name": "HBoxModel",
       "_view_count": null,
       "_view_module": "@jupyter-widgets/controls",
       "_view_module_version": "2.0.0",
       "_view_name": "HBoxView",
       "box_style": "",
       "children": [
        "IPY_MODEL_e89f71dd92be42bf96eb47578dbaf3a2",
        "IPY_MODEL_1da3603da26b499ba78f87f89a755861",
        "IPY_MODEL_1feecfb8e2dd41629e60d2c5aa7ce497"
       ],
       "layout": "IPY_MODEL_5c7d4b1fd4dd4c8e8075022019c8872b",
       "tabbable": null,
       "tooltip": null
      }
     },
     "058121d2daa84c98b4e3cd78c0f13f76": {
      "model_module": "@jupyter-widgets/controls",
      "model_module_version": "2.0.0",
      "model_name": "FloatProgressModel",
      "state": {
       "_dom_classes": [],
       "_model_module": "@jupyter-widgets/controls",
       "_model_module_version": "2.0.0",
       "_model_name": "FloatProgressModel",
       "_view_count": null,
       "_view_module": "@jupyter-widgets/controls",
       "_view_module_version": "2.0.0",
       "_view_name": "ProgressView",
       "bar_style": "success",
       "description": "",
       "description_allow_html": false,
       "layout": "IPY_MODEL_88be41bd191e44798b0e6d66f55dab62",
       "max": 267954768.0,
       "min": 0.0,
       "orientation": "horizontal",
       "style": "IPY_MODEL_d7b54dba91fe473c83859d8924e28882",
       "tabbable": null,
       "tooltip": null,
       "value": 267954768.0
      }
     },
     "0bd945918bd74a93a70ba24558ff5640": {
      "model_module": "@jupyter-widgets/base",
      "model_module_version": "2.0.0",
      "model_name": "LayoutModel",
      "state": {
       "_model_module": "@jupyter-widgets/base",
       "_model_module_version": "2.0.0",
       "_model_name": "LayoutModel",
       "_view_count": null,
       "_view_module": "@jupyter-widgets/base",
       "_view_module_version": "2.0.0",
       "_view_name": "LayoutView",
       "align_content": null,
       "align_items": null,
       "align_self": null,
       "border_bottom": null,
       "border_left": null,
       "border_right": null,
       "border_top": null,
       "bottom": null,
       "display": null,
       "flex": null,
       "flex_flow": null,
       "grid_area": null,
       "grid_auto_columns": null,
       "grid_auto_flow": null,
       "grid_auto_rows": null,
       "grid_column": null,
       "grid_gap": null,
       "grid_row": null,
       "grid_template_areas": null,
       "grid_template_columns": null,
       "grid_template_rows": null,
       "height": null,
       "justify_content": null,
       "justify_items": null,
       "left": null,
       "margin": null,
       "max_height": null,
       "max_width": null,
       "min_height": null,
       "min_width": null,
       "object_fit": null,
       "object_position": null,
       "order": null,
       "overflow": null,
       "padding": null,
       "right": null,
       "top": null,
       "visibility": null,
       "width": null
      }
     },
     "0cce857995624ee9900e6f620785298f": {
      "model_module": "@jupyter-widgets/controls",
      "model_module_version": "2.0.0",
      "model_name": "HTMLStyleModel",
      "state": {
       "_model_module": "@jupyter-widgets/controls",
       "_model_module_version": "2.0.0",
       "_model_name": "HTMLStyleModel",
       "_view_count": null,
       "_view_module": "@jupyter-widgets/base",
       "_view_module_version": "2.0.0",
       "_view_name": "StyleView",
       "background": null,
       "description_width": "",
       "font_size": null,
       "text_color": null
      }
     },
     "12006a80f8ce481b94d66cbc550bc8f4": {
      "model_module": "@jupyter-widgets/controls",
      "model_module_version": "2.0.0",
      "model_name": "ProgressStyleModel",
      "state": {
       "_model_module": "@jupyter-widgets/controls",
       "_model_module_version": "2.0.0",
       "_model_name": "ProgressStyleModel",
       "_view_count": null,
       "_view_module": "@jupyter-widgets/base",
       "_view_module_version": "2.0.0",
       "_view_name": "StyleView",
       "bar_color": null,
       "description_width": ""
      }
     },
     "183406e9684446ecb0fcc77e994c4dae": {
      "model_module": "@jupyter-widgets/base",
      "model_module_version": "2.0.0",
      "model_name": "LayoutModel",
      "state": {
       "_model_module": "@jupyter-widgets/base",
       "_model_module_version": "2.0.0",
       "_model_name": "LayoutModel",
       "_view_count": null,
       "_view_module": "@jupyter-widgets/base",
       "_view_module_version": "2.0.0",
       "_view_name": "LayoutView",
       "align_content": null,
       "align_items": null,
       "align_self": null,
       "border_bottom": null,
       "border_left": null,
       "border_right": null,
       "border_top": null,
       "bottom": null,
       "display": null,
       "flex": null,
       "flex_flow": null,
       "grid_area": null,
       "grid_auto_columns": null,
       "grid_auto_flow": null,
       "grid_auto_rows": null,
       "grid_column": null,
       "grid_gap": null,
       "grid_row": null,
       "grid_template_areas": null,
       "grid_template_columns": null,
       "grid_template_rows": null,
       "height": null,
       "justify_content": null,
       "justify_items": null,
       "left": null,
       "margin": null,
       "max_height": null,
       "max_width": null,
       "min_height": null,
       "min_width": null,
       "object_fit": null,
       "object_position": null,
       "order": null,
       "overflow": null,
       "padding": null,
       "right": null,
       "top": null,
       "visibility": null,
       "width": null
      }
     },
     "1da3603da26b499ba78f87f89a755861": {
      "model_module": "@jupyter-widgets/controls",
      "model_module_version": "2.0.0",
      "model_name": "FloatProgressModel",
      "state": {
       "_dom_classes": [],
       "_model_module": "@jupyter-widgets/controls",
       "_model_module_version": "2.0.0",
       "_model_name": "FloatProgressModel",
       "_view_count": null,
       "_view_module": "@jupyter-widgets/controls",
       "_view_module_version": "2.0.0",
       "_view_name": "ProgressView",
       "bar_style": "success",
       "description": "",
       "description_allow_html": false,
       "layout": "IPY_MODEL_f86e6640c9d34039a9c5c50d179f9b83",
       "max": 466062.0,
       "min": 0.0,
       "orientation": "horizontal",
       "style": "IPY_MODEL_12006a80f8ce481b94d66cbc550bc8f4",
       "tabbable": null,
       "tooltip": null,
       "value": 466062.0
      }
     },
     "1feecfb8e2dd41629e60d2c5aa7ce497": {
      "model_module": "@jupyter-widgets/controls",
      "model_module_version": "2.0.0",
      "model_name": "HTMLModel",
      "state": {
       "_dom_classes": [],
       "_model_module": "@jupyter-widgets/controls",
       "_model_module_version": "2.0.0",
       "_model_name": "HTMLModel",
       "_view_count": null,
       "_view_module": "@jupyter-widgets/controls",
       "_view_module_version": "2.0.0",
       "_view_name": "HTMLView",
       "description": "",
       "description_allow_html": false,
       "layout": "IPY_MODEL_d3b0b17c12ad47df90b1b7615b158903",
       "placeholder": "​",
       "style": "IPY_MODEL_d12ddf19d20c4f70a612f8b07100107c",
       "tabbable": null,
       "tooltip": null,
       "value": " 466k/466k [00:00&lt;00:00, 47.2MB/s]"
      }
     },
     "210abe483b0a40d694f0d76bdd8ba32f": {
      "model_module": "@jupyter-widgets/controls",
      "model_module_version": "2.0.0",
      "model_name": "HTMLModel",
      "state": {
       "_dom_classes": [],
       "_model_module": "@jupyter-widgets/controls",
       "_model_module_version": "2.0.0",
       "_model_name": "HTMLModel",
       "_view_count": null,
       "_view_module": "@jupyter-widgets/controls",
       "_view_module_version": "2.0.0",
       "_view_name": "HTMLView",
       "description": "",
       "description_allow_html": false,
       "layout": "IPY_MODEL_e297a0eec15348198bdac34ff458b80e",
       "placeholder": "​",
       "style": "IPY_MODEL_aaf8e98828514619bd0210ca3bd8712c",
       "tabbable": null,
       "tooltip": null,
       "value": " 483/483 [00:00&lt;00:00, 66.9kB/s]"
      }
     },
     "22a917767f0d4891bd5496347cfc29f3": {
      "model_module": "@jupyter-widgets/controls",
      "model_module_version": "2.0.0",
      "model_name": "HTMLModel",
      "state": {
       "_dom_classes": [],
       "_model_module": "@jupyter-widgets/controls",
       "_model_module_version": "2.0.0",
       "_model_name": "HTMLModel",
       "_view_count": null,
       "_view_module": "@jupyter-widgets/controls",
       "_view_module_version": "2.0.0",
       "_view_name": "HTMLView",
       "description": "",
       "description_allow_html": false,
       "layout": "IPY_MODEL_d262395e1a184f63961d869531367e87",
       "placeholder": "​",
       "style": "IPY_MODEL_46ad637270894419ba78799ad94f7e07",
       "tabbable": null,
       "tooltip": null,
       "value": "vocab.txt: 100%"
      }
     },
     "24c7b254e80243f3975a1b42fae0e92c": {
      "model_module": "@jupyter-widgets/base",
      "model_module_version": "2.0.0",
      "model_name": "LayoutModel",
      "state": {
       "_model_module": "@jupyter-widgets/base",
       "_model_module_version": "2.0.0",
       "_model_name": "LayoutModel",
       "_view_count": null,
       "_view_module": "@jupyter-widgets/base",
       "_view_module_version": "2.0.0",
       "_view_name": "LayoutView",
       "align_content": null,
       "align_items": null,
       "align_self": null,
       "border_bottom": null,
       "border_left": null,
       "border_right": null,
       "border_top": null,
       "bottom": null,
       "display": null,
       "flex": null,
       "flex_flow": null,
       "grid_area": null,
       "grid_auto_columns": null,
       "grid_auto_flow": null,
       "grid_auto_rows": null,
       "grid_column": null,
       "grid_gap": null,
       "grid_row": null,
       "grid_template_areas": null,
       "grid_template_columns": null,
       "grid_template_rows": null,
       "height": null,
       "justify_content": null,
       "justify_items": null,
       "left": null,
       "margin": null,
       "max_height": null,
       "max_width": null,
       "min_height": null,
       "min_width": null,
       "object_fit": null,
       "object_position": null,
       "order": null,
       "overflow": null,
       "padding": null,
       "right": null,
       "top": null,
       "visibility": null,
       "width": null
      }
     },
     "27a9741a33ec4756a47e82bb2cfd5ef7": {
      "model_module": "@jupyter-widgets/base",
      "model_module_version": "2.0.0",
      "model_name": "LayoutModel",
      "state": {
       "_model_module": "@jupyter-widgets/base",
       "_model_module_version": "2.0.0",
       "_model_name": "LayoutModel",
       "_view_count": null,
       "_view_module": "@jupyter-widgets/base",
       "_view_module_version": "2.0.0",
       "_view_name": "LayoutView",
       "align_content": null,
       "align_items": null,
       "align_self": null,
       "border_bottom": null,
       "border_left": null,
       "border_right": null,
       "border_top": null,
       "bottom": null,
       "display": null,
       "flex": null,
       "flex_flow": null,
       "grid_area": null,
       "grid_auto_columns": null,
       "grid_auto_flow": null,
       "grid_auto_rows": null,
       "grid_column": null,
       "grid_gap": null,
       "grid_row": null,
       "grid_template_areas": null,
       "grid_template_columns": null,
       "grid_template_rows": null,
       "height": null,
       "justify_content": null,
       "justify_items": null,
       "left": null,
       "margin": null,
       "max_height": null,
       "max_width": null,
       "min_height": null,
       "min_width": null,
       "object_fit": null,
       "object_position": null,
       "order": null,
       "overflow": null,
       "padding": null,
       "right": null,
       "top": null,
       "visibility": null,
       "width": null
      }
     },
     "29c66722c09d4f3e9bac4ccff2a20f1c": {
      "model_module": "@jupyter-widgets/controls",
      "model_module_version": "2.0.0",
      "model_name": "HBoxModel",
      "state": {
       "_dom_classes": [],
       "_model_module": "@jupyter-widgets/controls",
       "_model_module_version": "2.0.0",
       "_model_name": "HBoxModel",
       "_view_count": null,
       "_view_module": "@jupyter-widgets/controls",
       "_view_module_version": "2.0.0",
       "_view_name": "HBoxView",
       "box_style": "",
       "children": [
        "IPY_MODEL_22a917767f0d4891bd5496347cfc29f3",
        "IPY_MODEL_996eb4419f7648308d2019945cde4089",
        "IPY_MODEL_668c04d3237148e2a23450ed304118e5"
       ],
       "layout": "IPY_MODEL_d90cc8dd5458498882c808c4e4b3173b",
       "tabbable": null,
       "tooltip": null
      }
     },
     "2fc8e5015d9446bb88cee2b2d9116dbc": {
      "model_module": "@jupyter-widgets/controls",
      "model_module_version": "2.0.0",
      "model_name": "HTMLStyleModel",
      "state": {
       "_model_module": "@jupyter-widgets/controls",
       "_model_module_version": "2.0.0",
       "_model_name": "HTMLStyleModel",
       "_view_count": null,
       "_view_module": "@jupyter-widgets/base",
       "_view_module_version": "2.0.0",
       "_view_name": "StyleView",
       "background": null,
       "description_width": "",
       "font_size": null,
       "text_color": null
      }
     },
     "3584273a01e944e8aaba69ab0d0f841e": {
      "model_module": "@jupyter-widgets/controls",
      "model_module_version": "2.0.0",
      "model_name": "HTMLModel",
      "state": {
       "_dom_classes": [],
       "_model_module": "@jupyter-widgets/controls",
       "_model_module_version": "2.0.0",
       "_model_name": "HTMLModel",
       "_view_count": null,
       "_view_module": "@jupyter-widgets/controls",
       "_view_module_version": "2.0.0",
       "_view_name": "HTMLView",
       "description": "",
       "description_allow_html": false,
       "layout": "IPY_MODEL_fce02a4c9581480d8a0721df784fbe2d",
       "placeholder": "​",
       "style": "IPY_MODEL_7a2049a30bbe4b79aa6349efe901aafd",
       "tabbable": null,
       "tooltip": null,
       "value": "tokenizer_config.json: 100%"
      }
     },
     "384f36faeed64c2686373c39bce33ef0": {
      "model_module": "@jupyter-widgets/controls",
      "model_module_version": "2.0.0",
      "model_name": "HBoxModel",
      "state": {
       "_dom_classes": [],
       "_model_module": "@jupyter-widgets/controls",
       "_model_module_version": "2.0.0",
       "_model_name": "HBoxModel",
       "_view_count": null,
       "_view_module": "@jupyter-widgets/controls",
       "_view_module_version": "2.0.0",
       "_view_name": "HBoxView",
       "box_style": "",
       "children": [
        "IPY_MODEL_3584273a01e944e8aaba69ab0d0f841e",
        "IPY_MODEL_419ba69556274f5abb853aad93230003",
        "IPY_MODEL_5778dca34d484c51b759ce7d708bfe62"
       ],
       "layout": "IPY_MODEL_0bd945918bd74a93a70ba24558ff5640",
       "tabbable": null,
       "tooltip": null
      }
     },
     "39e6ae92e72e40fe848451912fd1b0cc": {
      "model_module": "@jupyter-widgets/controls",
      "model_module_version": "2.0.0",
      "model_name": "HTMLModel",
      "state": {
       "_dom_classes": [],
       "_model_module": "@jupyter-widgets/controls",
       "_model_module_version": "2.0.0",
       "_model_name": "HTMLModel",
       "_view_count": null,
       "_view_module": "@jupyter-widgets/controls",
       "_view_module_version": "2.0.0",
       "_view_name": "HTMLView",
       "description": "",
       "description_allow_html": false,
       "layout": "IPY_MODEL_cf40f489870c4f5388e52b64aafc699a",
       "placeholder": "​",
       "style": "IPY_MODEL_b61ec62c29db471eadd12bc312c9c367",
       "tabbable": null,
       "tooltip": null,
       "value": "model.safetensors: 100%"
      }
     },
     "3ecb7a718a634d3794443a6d7a7cab3e": {
      "model_module": "@jupyter-widgets/base",
      "model_module_version": "2.0.0",
      "model_name": "LayoutModel",
      "state": {
       "_model_module": "@jupyter-widgets/base",
       "_model_module_version": "2.0.0",
       "_model_name": "LayoutModel",
       "_view_count": null,
       "_view_module": "@jupyter-widgets/base",
       "_view_module_version": "2.0.0",
       "_view_name": "LayoutView",
       "align_content": null,
       "align_items": null,
       "align_self": null,
       "border_bottom": null,
       "border_left": null,
       "border_right": null,
       "border_top": null,
       "bottom": null,
       "display": null,
       "flex": null,
       "flex_flow": null,
       "grid_area": null,
       "grid_auto_columns": null,
       "grid_auto_flow": null,
       "grid_auto_rows": null,
       "grid_column": null,
       "grid_gap": null,
       "grid_row": null,
       "grid_template_areas": null,
       "grid_template_columns": null,
       "grid_template_rows": null,
       "height": null,
       "justify_content": null,
       "justify_items": null,
       "left": null,
       "margin": null,
       "max_height": null,
       "max_width": null,
       "min_height": null,
       "min_width": null,
       "object_fit": null,
       "object_position": null,
       "order": null,
       "overflow": null,
       "padding": null,
       "right": null,
       "top": null,
       "visibility": null,
       "width": null
      }
     },
     "419ba69556274f5abb853aad93230003": {
      "model_module": "@jupyter-widgets/controls",
      "model_module_version": "2.0.0",
      "model_name": "FloatProgressModel",
      "state": {
       "_dom_classes": [],
       "_model_module": "@jupyter-widgets/controls",
       "_model_module_version": "2.0.0",
       "_model_name": "FloatProgressModel",
       "_view_count": null,
       "_view_module": "@jupyter-widgets/controls",
       "_view_module_version": "2.0.0",
       "_view_name": "ProgressView",
       "bar_style": "success",
       "description": "",
       "description_allow_html": false,
       "layout": "IPY_MODEL_3ecb7a718a634d3794443a6d7a7cab3e",
       "max": 48.0,
       "min": 0.0,
       "orientation": "horizontal",
       "style": "IPY_MODEL_f65ff5a58f3b44199f55ec00924e2968",
       "tabbable": null,
       "tooltip": null,
       "value": 48.0
      }
     },
     "45eba86d7be94891b388b58af13d360d": {
      "model_module": "@jupyter-widgets/controls",
      "model_module_version": "2.0.0",
      "model_name": "HBoxModel",
      "state": {
       "_dom_classes": [],
       "_model_module": "@jupyter-widgets/controls",
       "_model_module_version": "2.0.0",
       "_model_name": "HBoxModel",
       "_view_count": null,
       "_view_module": "@jupyter-widgets/controls",
       "_view_module_version": "2.0.0",
       "_view_name": "HBoxView",
       "box_style": "",
       "children": [
        "IPY_MODEL_4bc6c72b5e8b4c0397cf292979d19630",
        "IPY_MODEL_9b47d546688b4da192eebb3f5082570f",
        "IPY_MODEL_210abe483b0a40d694f0d76bdd8ba32f"
       ],
       "layout": "IPY_MODEL_183406e9684446ecb0fcc77e994c4dae",
       "tabbable": null,
       "tooltip": null
      }
     },
     "46ad637270894419ba78799ad94f7e07": {
      "model_module": "@jupyter-widgets/controls",
      "model_module_version": "2.0.0",
      "model_name": "HTMLStyleModel",
      "state": {
       "_model_module": "@jupyter-widgets/controls",
       "_model_module_version": "2.0.0",
       "_model_name": "HTMLStyleModel",
       "_view_count": null,
       "_view_module": "@jupyter-widgets/base",
       "_view_module_version": "2.0.0",
       "_view_name": "StyleView",
       "background": null,
       "description_width": "",
       "font_size": null,
       "text_color": null
      }
     },
     "4bc6c72b5e8b4c0397cf292979d19630": {
      "model_module": "@jupyter-widgets/controls",
      "model_module_version": "2.0.0",
      "model_name": "HTMLModel",
      "state": {
       "_dom_classes": [],
       "_model_module": "@jupyter-widgets/controls",
       "_model_module_version": "2.0.0",
       "_model_name": "HTMLModel",
       "_view_count": null,
       "_view_module": "@jupyter-widgets/controls",
       "_view_module_version": "2.0.0",
       "_view_name": "HTMLView",
       "description": "",
       "description_allow_html": false,
       "layout": "IPY_MODEL_ddbaed494cb54e7bb3b27e60449d3262",
       "placeholder": "​",
       "style": "IPY_MODEL_b704ff9026714874be6a3d79e4888388",
       "tabbable": null,
       "tooltip": null,
       "value": "config.json: 100%"
      }
     },
     "5778dca34d484c51b759ce7d708bfe62": {
      "model_module": "@jupyter-widgets/controls",
      "model_module_version": "2.0.0",
      "model_name": "HTMLModel",
      "state": {
       "_dom_classes": [],
       "_model_module": "@jupyter-widgets/controls",
       "_model_module_version": "2.0.0",
       "_model_name": "HTMLModel",
       "_view_count": null,
       "_view_module": "@jupyter-widgets/controls",
       "_view_module_version": "2.0.0",
       "_view_name": "HTMLView",
       "description": "",
       "description_allow_html": false,
       "layout": "IPY_MODEL_658247e02c0e4fb88bfe6349f8c8d0fa",
       "placeholder": "​",
       "style": "IPY_MODEL_0cce857995624ee9900e6f620785298f",
       "tabbable": null,
       "tooltip": null,
       "value": " 48.0/48.0 [00:00&lt;00:00, 5.77kB/s]"
      }
     },
     "5c7d4b1fd4dd4c8e8075022019c8872b": {
      "model_module": "@jupyter-widgets/base",
      "model_module_version": "2.0.0",
      "model_name": "LayoutModel",
      "state": {
       "_model_module": "@jupyter-widgets/base",
       "_model_module_version": "2.0.0",
       "_model_name": "LayoutModel",
       "_view_count": null,
       "_view_module": "@jupyter-widgets/base",
       "_view_module_version": "2.0.0",
       "_view_name": "LayoutView",
       "align_content": null,
       "align_items": null,
       "align_self": null,
       "border_bottom": null,
       "border_left": null,
       "border_right": null,
       "border_top": null,
       "bottom": null,
       "display": null,
       "flex": null,
       "flex_flow": null,
       "grid_area": null,
       "grid_auto_columns": null,
       "grid_auto_flow": null,
       "grid_auto_rows": null,
       "grid_column": null,
       "grid_gap": null,
       "grid_row": null,
       "grid_template_areas": null,
       "grid_template_columns": null,
       "grid_template_rows": null,
       "height": null,
       "justify_content": null,
       "justify_items": null,
       "left": null,
       "margin": null,
       "max_height": null,
       "max_width": null,
       "min_height": null,
       "min_width": null,
       "object_fit": null,
       "object_position": null,
       "order": null,
       "overflow": null,
       "padding": null,
       "right": null,
       "top": null,
       "visibility": null,
       "width": null
      }
     },
     "658247e02c0e4fb88bfe6349f8c8d0fa": {
      "model_module": "@jupyter-widgets/base",
      "model_module_version": "2.0.0",
      "model_name": "LayoutModel",
      "state": {
       "_model_module": "@jupyter-widgets/base",
       "_model_module_version": "2.0.0",
       "_model_name": "LayoutModel",
       "_view_count": null,
       "_view_module": "@jupyter-widgets/base",
       "_view_module_version": "2.0.0",
       "_view_name": "LayoutView",
       "align_content": null,
       "align_items": null,
       "align_self": null,
       "border_bottom": null,
       "border_left": null,
       "border_right": null,
       "border_top": null,
       "bottom": null,
       "display": null,
       "flex": null,
       "flex_flow": null,
       "grid_area": null,
       "grid_auto_columns": null,
       "grid_auto_flow": null,
       "grid_auto_rows": null,
       "grid_column": null,
       "grid_gap": null,
       "grid_row": null,
       "grid_template_areas": null,
       "grid_template_columns": null,
       "grid_template_rows": null,
       "height": null,
       "justify_content": null,
       "justify_items": null,
       "left": null,
       "margin": null,
       "max_height": null,
       "max_width": null,
       "min_height": null,
       "min_width": null,
       "object_fit": null,
       "object_position": null,
       "order": null,
       "overflow": null,
       "padding": null,
       "right": null,
       "top": null,
       "visibility": null,
       "width": null
      }
     },
     "668c04d3237148e2a23450ed304118e5": {
      "model_module": "@jupyter-widgets/controls",
      "model_module_version": "2.0.0",
      "model_name": "HTMLModel",
      "state": {
       "_dom_classes": [],
       "_model_module": "@jupyter-widgets/controls",
       "_model_module_version": "2.0.0",
       "_model_name": "HTMLModel",
       "_view_count": null,
       "_view_module": "@jupyter-widgets/controls",
       "_view_module_version": "2.0.0",
       "_view_name": "HTMLView",
       "description": "",
       "description_allow_html": false,
       "layout": "IPY_MODEL_27a9741a33ec4756a47e82bb2cfd5ef7",
       "placeholder": "​",
       "style": "IPY_MODEL_696d3944bcd7481081d017a2e461d128",
       "tabbable": null,
       "tooltip": null,
       "value": " 232k/232k [00:00&lt;00:00, 9.52MB/s]"
      }
     },
     "696d3944bcd7481081d017a2e461d128": {
      "model_module": "@jupyter-widgets/controls",
      "model_module_version": "2.0.0",
      "model_name": "HTMLStyleModel",
      "state": {
       "_model_module": "@jupyter-widgets/controls",
       "_model_module_version": "2.0.0",
       "_model_name": "HTMLStyleModel",
       "_view_count": null,
       "_view_module": "@jupyter-widgets/base",
       "_view_module_version": "2.0.0",
       "_view_name": "StyleView",
       "background": null,
       "description_width": "",
       "font_size": null,
       "text_color": null
      }
     },
     "7a2049a30bbe4b79aa6349efe901aafd": {
      "model_module": "@jupyter-widgets/controls",
      "model_module_version": "2.0.0",
      "model_name": "HTMLStyleModel",
      "state": {
       "_model_module": "@jupyter-widgets/controls",
       "_model_module_version": "2.0.0",
       "_model_name": "HTMLStyleModel",
       "_view_count": null,
       "_view_module": "@jupyter-widgets/base",
       "_view_module_version": "2.0.0",
       "_view_name": "StyleView",
       "background": null,
       "description_width": "",
       "font_size": null,
       "text_color": null
      }
     },
     "7cc9689ee0ae4798811ae5be2ce1ced5": {
      "model_module": "@jupyter-widgets/base",
      "model_module_version": "2.0.0",
      "model_name": "LayoutModel",
      "state": {
       "_model_module": "@jupyter-widgets/base",
       "_model_module_version": "2.0.0",
       "_model_name": "LayoutModel",
       "_view_count": null,
       "_view_module": "@jupyter-widgets/base",
       "_view_module_version": "2.0.0",
       "_view_name": "LayoutView",
       "align_content": null,
       "align_items": null,
       "align_self": null,
       "border_bottom": null,
       "border_left": null,
       "border_right": null,
       "border_top": null,
       "bottom": null,
       "display": null,
       "flex": null,
       "flex_flow": null,
       "grid_area": null,
       "grid_auto_columns": null,
       "grid_auto_flow": null,
       "grid_auto_rows": null,
       "grid_column": null,
       "grid_gap": null,
       "grid_row": null,
       "grid_template_areas": null,
       "grid_template_columns": null,
       "grid_template_rows": null,
       "height": null,
       "justify_content": null,
       "justify_items": null,
       "left": null,
       "margin": null,
       "max_height": null,
       "max_width": null,
       "min_height": null,
       "min_width": null,
       "object_fit": null,
       "object_position": null,
       "order": null,
       "overflow": null,
       "padding": null,
       "right": null,
       "top": null,
       "visibility": null,
       "width": null
      }
     },
     "88be41bd191e44798b0e6d66f55dab62": {
      "model_module": "@jupyter-widgets/base",
      "model_module_version": "2.0.0",
      "model_name": "LayoutModel",
      "state": {
       "_model_module": "@jupyter-widgets/base",
       "_model_module_version": "2.0.0",
       "_model_name": "LayoutModel",
       "_view_count": null,
       "_view_module": "@jupyter-widgets/base",
       "_view_module_version": "2.0.0",
       "_view_name": "LayoutView",
       "align_content": null,
       "align_items": null,
       "align_self": null,
       "border_bottom": null,
       "border_left": null,
       "border_right": null,
       "border_top": null,
       "bottom": null,
       "display": null,
       "flex": null,
       "flex_flow": null,
       "grid_area": null,
       "grid_auto_columns": null,
       "grid_auto_flow": null,
       "grid_auto_rows": null,
       "grid_column": null,
       "grid_gap": null,
       "grid_row": null,
       "grid_template_areas": null,
       "grid_template_columns": null,
       "grid_template_rows": null,
       "height": null,
       "justify_content": null,
       "justify_items": null,
       "left": null,
       "margin": null,
       "max_height": null,
       "max_width": null,
       "min_height": null,
       "min_width": null,
       "object_fit": null,
       "object_position": null,
       "order": null,
       "overflow": null,
       "padding": null,
       "right": null,
       "top": null,
       "visibility": null,
       "width": null
      }
     },
     "90c9a7c59645488089c5b6385a158add": {
      "model_module": "@jupyter-widgets/controls",
      "model_module_version": "2.0.0",
      "model_name": "ProgressStyleModel",
      "state": {
       "_model_module": "@jupyter-widgets/controls",
       "_model_module_version": "2.0.0",
       "_model_name": "ProgressStyleModel",
       "_view_count": null,
       "_view_module": "@jupyter-widgets/base",
       "_view_module_version": "2.0.0",
       "_view_name": "StyleView",
       "bar_color": null,
       "description_width": ""
      }
     },
     "996eb4419f7648308d2019945cde4089": {
      "model_module": "@jupyter-widgets/controls",
      "model_module_version": "2.0.0",
      "model_name": "FloatProgressModel",
      "state": {
       "_dom_classes": [],
       "_model_module": "@jupyter-widgets/controls",
       "_model_module_version": "2.0.0",
       "_model_name": "FloatProgressModel",
       "_view_count": null,
       "_view_module": "@jupyter-widgets/controls",
       "_view_module_version": "2.0.0",
       "_view_name": "ProgressView",
       "bar_style": "success",
       "description": "",
       "description_allow_html": false,
       "layout": "IPY_MODEL_c192e92ef2d941e4930c0db07d886af0",
       "max": 231508.0,
       "min": 0.0,
       "orientation": "horizontal",
       "style": "IPY_MODEL_90c9a7c59645488089c5b6385a158add",
       "tabbable": null,
       "tooltip": null,
       "value": 231508.0
      }
     },
     "9b47d546688b4da192eebb3f5082570f": {
      "model_module": "@jupyter-widgets/controls",
      "model_module_version": "2.0.0",
      "model_name": "FloatProgressModel",
      "state": {
       "_dom_classes": [],
       "_model_module": "@jupyter-widgets/controls",
       "_model_module_version": "2.0.0",
       "_model_name": "FloatProgressModel",
       "_view_count": null,
       "_view_module": "@jupyter-widgets/controls",
       "_view_module_version": "2.0.0",
       "_view_name": "ProgressView",
       "bar_style": "success",
       "description": "",
       "description_allow_html": false,
       "layout": "IPY_MODEL_d7ea9ef701464ba9804b997f6214834c",
       "max": 483.0,
       "min": 0.0,
       "orientation": "horizontal",
       "style": "IPY_MODEL_d5f997b03f1548d1aca23e21ca22453b",
       "tabbable": null,
       "tooltip": null,
       "value": 483.0
      }
     },
     "aaf8e98828514619bd0210ca3bd8712c": {
      "model_module": "@jupyter-widgets/controls",
      "model_module_version": "2.0.0",
      "model_name": "HTMLStyleModel",
      "state": {
       "_model_module": "@jupyter-widgets/controls",
       "_model_module_version": "2.0.0",
       "_model_name": "HTMLStyleModel",
       "_view_count": null,
       "_view_module": "@jupyter-widgets/base",
       "_view_module_version": "2.0.0",
       "_view_name": "StyleView",
       "background": null,
       "description_width": "",
       "font_size": null,
       "text_color": null
      }
     },
     "b61ec62c29db471eadd12bc312c9c367": {
      "model_module": "@jupyter-widgets/controls",
      "model_module_version": "2.0.0",
      "model_name": "HTMLStyleModel",
      "state": {
       "_model_module": "@jupyter-widgets/controls",
       "_model_module_version": "2.0.0",
       "_model_name": "HTMLStyleModel",
       "_view_count": null,
       "_view_module": "@jupyter-widgets/base",
       "_view_module_version": "2.0.0",
       "_view_name": "StyleView",
       "background": null,
       "description_width": "",
       "font_size": null,
       "text_color": null
      }
     },
     "b704ff9026714874be6a3d79e4888388": {
      "model_module": "@jupyter-widgets/controls",
      "model_module_version": "2.0.0",
      "model_name": "HTMLStyleModel",
      "state": {
       "_model_module": "@jupyter-widgets/controls",
       "_model_module_version": "2.0.0",
       "_model_name": "HTMLStyleModel",
       "_view_count": null,
       "_view_module": "@jupyter-widgets/base",
       "_view_module_version": "2.0.0",
       "_view_name": "StyleView",
       "background": null,
       "description_width": "",
       "font_size": null,
       "text_color": null
      }
     },
     "b83067a39bcb41a6914a0c959ce2248c": {
      "model_module": "@jupyter-widgets/controls",
      "model_module_version": "2.0.0",
      "model_name": "HTMLModel",
      "state": {
       "_dom_classes": [],
       "_model_module": "@jupyter-widgets/controls",
       "_model_module_version": "2.0.0",
       "_model_name": "HTMLModel",
       "_view_count": null,
       "_view_module": "@jupyter-widgets/controls",
       "_view_module_version": "2.0.0",
       "_view_name": "HTMLView",
       "description": "",
       "description_allow_html": false,
       "layout": "IPY_MODEL_24c7b254e80243f3975a1b42fae0e92c",
       "placeholder": "​",
       "style": "IPY_MODEL_eeb4695f6eef4d02a2a03efab0524dee",
       "tabbable": null,
       "tooltip": null,
       "value": " 268M/268M [00:01&lt;00:00, 291MB/s]"
      }
     },
     "c192e92ef2d941e4930c0db07d886af0": {
      "model_module": "@jupyter-widgets/base",
      "model_module_version": "2.0.0",
      "model_name": "LayoutModel",
      "state": {
       "_model_module": "@jupyter-widgets/base",
       "_model_module_version": "2.0.0",
       "_model_name": "LayoutModel",
       "_view_count": null,
       "_view_module": "@jupyter-widgets/base",
       "_view_module_version": "2.0.0",
       "_view_name": "LayoutView",
       "align_content": null,
       "align_items": null,
       "align_self": null,
       "border_bottom": null,
       "border_left": null,
       "border_right": null,
       "border_top": null,
       "bottom": null,
       "display": null,
       "flex": null,
       "flex_flow": null,
       "grid_area": null,
       "grid_auto_columns": null,
       "grid_auto_flow": null,
       "grid_auto_rows": null,
       "grid_column": null,
       "grid_gap": null,
       "grid_row": null,
       "grid_template_areas": null,
       "grid_template_columns": null,
       "grid_template_rows": null,
       "height": null,
       "justify_content": null,
       "justify_items": null,
       "left": null,
       "margin": null,
       "max_height": null,
       "max_width": null,
       "min_height": null,
       "min_width": null,
       "object_fit": null,
       "object_position": null,
       "order": null,
       "overflow": null,
       "padding": null,
       "right": null,
       "top": null,
       "visibility": null,
       "width": null
      }
     },
     "c6dc5b518bd648e8a86b0fd4e5fb112d": {
      "model_module": "@jupyter-widgets/base",
      "model_module_version": "2.0.0",
      "model_name": "LayoutModel",
      "state": {
       "_model_module": "@jupyter-widgets/base",
       "_model_module_version": "2.0.0",
       "_model_name": "LayoutModel",
       "_view_count": null,
       "_view_module": "@jupyter-widgets/base",
       "_view_module_version": "2.0.0",
       "_view_name": "LayoutView",
       "align_content": null,
       "align_items": null,
       "align_self": null,
       "border_bottom": null,
       "border_left": null,
       "border_right": null,
       "border_top": null,
       "bottom": null,
       "display": null,
       "flex": null,
       "flex_flow": null,
       "grid_area": null,
       "grid_auto_columns": null,
       "grid_auto_flow": null,
       "grid_auto_rows": null,
       "grid_column": null,
       "grid_gap": null,
       "grid_row": null,
       "grid_template_areas": null,
       "grid_template_columns": null,
       "grid_template_rows": null,
       "height": null,
       "justify_content": null,
       "justify_items": null,
       "left": null,
       "margin": null,
       "max_height": null,
       "max_width": null,
       "min_height": null,
       "min_width": null,
       "object_fit": null,
       "object_position": null,
       "order": null,
       "overflow": null,
       "padding": null,
       "right": null,
       "top": null,
       "visibility": null,
       "width": null
      }
     },
     "cf40f489870c4f5388e52b64aafc699a": {
      "model_module": "@jupyter-widgets/base",
      "model_module_version": "2.0.0",
      "model_name": "LayoutModel",
      "state": {
       "_model_module": "@jupyter-widgets/base",
       "_model_module_version": "2.0.0",
       "_model_name": "LayoutModel",
       "_view_count": null,
       "_view_module": "@jupyter-widgets/base",
       "_view_module_version": "2.0.0",
       "_view_name": "LayoutView",
       "align_content": null,
       "align_items": null,
       "align_self": null,
       "border_bottom": null,
       "border_left": null,
       "border_right": null,
       "border_top": null,
       "bottom": null,
       "display": null,
       "flex": null,
       "flex_flow": null,
       "grid_area": null,
       "grid_auto_columns": null,
       "grid_auto_flow": null,
       "grid_auto_rows": null,
       "grid_column": null,
       "grid_gap": null,
       "grid_row": null,
       "grid_template_areas": null,
       "grid_template_columns": null,
       "grid_template_rows": null,
       "height": null,
       "justify_content": null,
       "justify_items": null,
       "left": null,
       "margin": null,
       "max_height": null,
       "max_width": null,
       "min_height": null,
       "min_width": null,
       "object_fit": null,
       "object_position": null,
       "order": null,
       "overflow": null,
       "padding": null,
       "right": null,
       "top": null,
       "visibility": null,
       "width": null
      }
     },
     "d12ddf19d20c4f70a612f8b07100107c": {
      "model_module": "@jupyter-widgets/controls",
      "model_module_version": "2.0.0",
      "model_name": "HTMLStyleModel",
      "state": {
       "_model_module": "@jupyter-widgets/controls",
       "_model_module_version": "2.0.0",
       "_model_name": "HTMLStyleModel",
       "_view_count": null,
       "_view_module": "@jupyter-widgets/base",
       "_view_module_version": "2.0.0",
       "_view_name": "StyleView",
       "background": null,
       "description_width": "",
       "font_size": null,
       "text_color": null
      }
     },
     "d262395e1a184f63961d869531367e87": {
      "model_module": "@jupyter-widgets/base",
      "model_module_version": "2.0.0",
      "model_name": "LayoutModel",
      "state": {
       "_model_module": "@jupyter-widgets/base",
       "_model_module_version": "2.0.0",
       "_model_name": "LayoutModel",
       "_view_count": null,
       "_view_module": "@jupyter-widgets/base",
       "_view_module_version": "2.0.0",
       "_view_name": "LayoutView",
       "align_content": null,
       "align_items": null,
       "align_self": null,
       "border_bottom": null,
       "border_left": null,
       "border_right": null,
       "border_top": null,
       "bottom": null,
       "display": null,
       "flex": null,
       "flex_flow": null,
       "grid_area": null,
       "grid_auto_columns": null,
       "grid_auto_flow": null,
       "grid_auto_rows": null,
       "grid_column": null,
       "grid_gap": null,
       "grid_row": null,
       "grid_template_areas": null,
       "grid_template_columns": null,
       "grid_template_rows": null,
       "height": null,
       "justify_content": null,
       "justify_items": null,
       "left": null,
       "margin": null,
       "max_height": null,
       "max_width": null,
       "min_height": null,
       "min_width": null,
       "object_fit": null,
       "object_position": null,
       "order": null,
       "overflow": null,
       "padding": null,
       "right": null,
       "top": null,
       "visibility": null,
       "width": null
      }
     },
     "d3b0b17c12ad47df90b1b7615b158903": {
      "model_module": "@jupyter-widgets/base",
      "model_module_version": "2.0.0",
      "model_name": "LayoutModel",
      "state": {
       "_model_module": "@jupyter-widgets/base",
       "_model_module_version": "2.0.0",
       "_model_name": "LayoutModel",
       "_view_count": null,
       "_view_module": "@jupyter-widgets/base",
       "_view_module_version": "2.0.0",
       "_view_name": "LayoutView",
       "align_content": null,
       "align_items": null,
       "align_self": null,
       "border_bottom": null,
       "border_left": null,
       "border_right": null,
       "border_top": null,
       "bottom": null,
       "display": null,
       "flex": null,
       "flex_flow": null,
       "grid_area": null,
       "grid_auto_columns": null,
       "grid_auto_flow": null,
       "grid_auto_rows": null,
       "grid_column": null,
       "grid_gap": null,
       "grid_row": null,
       "grid_template_areas": null,
       "grid_template_columns": null,
       "grid_template_rows": null,
       "height": null,
       "justify_content": null,
       "justify_items": null,
       "left": null,
       "margin": null,
       "max_height": null,
       "max_width": null,
       "min_height": null,
       "min_width": null,
       "object_fit": null,
       "object_position": null,
       "order": null,
       "overflow": null,
       "padding": null,
       "right": null,
       "top": null,
       "visibility": null,
       "width": null
      }
     },
     "d5f997b03f1548d1aca23e21ca22453b": {
      "model_module": "@jupyter-widgets/controls",
      "model_module_version": "2.0.0",
      "model_name": "ProgressStyleModel",
      "state": {
       "_model_module": "@jupyter-widgets/controls",
       "_model_module_version": "2.0.0",
       "_model_name": "ProgressStyleModel",
       "_view_count": null,
       "_view_module": "@jupyter-widgets/base",
       "_view_module_version": "2.0.0",
       "_view_name": "StyleView",
       "bar_color": null,
       "description_width": ""
      }
     },
     "d7b54dba91fe473c83859d8924e28882": {
      "model_module": "@jupyter-widgets/controls",
      "model_module_version": "2.0.0",
      "model_name": "ProgressStyleModel",
      "state": {
       "_model_module": "@jupyter-widgets/controls",
       "_model_module_version": "2.0.0",
       "_model_name": "ProgressStyleModel",
       "_view_count": null,
       "_view_module": "@jupyter-widgets/base",
       "_view_module_version": "2.0.0",
       "_view_name": "StyleView",
       "bar_color": null,
       "description_width": ""
      }
     },
     "d7ea9ef701464ba9804b997f6214834c": {
      "model_module": "@jupyter-widgets/base",
      "model_module_version": "2.0.0",
      "model_name": "LayoutModel",
      "state": {
       "_model_module": "@jupyter-widgets/base",
       "_model_module_version": "2.0.0",
       "_model_name": "LayoutModel",
       "_view_count": null,
       "_view_module": "@jupyter-widgets/base",
       "_view_module_version": "2.0.0",
       "_view_name": "LayoutView",
       "align_content": null,
       "align_items": null,
       "align_self": null,
       "border_bottom": null,
       "border_left": null,
       "border_right": null,
       "border_top": null,
       "bottom": null,
       "display": null,
       "flex": null,
       "flex_flow": null,
       "grid_area": null,
       "grid_auto_columns": null,
       "grid_auto_flow": null,
       "grid_auto_rows": null,
       "grid_column": null,
       "grid_gap": null,
       "grid_row": null,
       "grid_template_areas": null,
       "grid_template_columns": null,
       "grid_template_rows": null,
       "height": null,
       "justify_content": null,
       "justify_items": null,
       "left": null,
       "margin": null,
       "max_height": null,
       "max_width": null,
       "min_height": null,
       "min_width": null,
       "object_fit": null,
       "object_position": null,
       "order": null,
       "overflow": null,
       "padding": null,
       "right": null,
       "top": null,
       "visibility": null,
       "width": null
      }
     },
     "d90cc8dd5458498882c808c4e4b3173b": {
      "model_module": "@jupyter-widgets/base",
      "model_module_version": "2.0.0",
      "model_name": "LayoutModel",
      "state": {
       "_model_module": "@jupyter-widgets/base",
       "_model_module_version": "2.0.0",
       "_model_name": "LayoutModel",
       "_view_count": null,
       "_view_module": "@jupyter-widgets/base",
       "_view_module_version": "2.0.0",
       "_view_name": "LayoutView",
       "align_content": null,
       "align_items": null,
       "align_self": null,
       "border_bottom": null,
       "border_left": null,
       "border_right": null,
       "border_top": null,
       "bottom": null,
       "display": null,
       "flex": null,
       "flex_flow": null,
       "grid_area": null,
       "grid_auto_columns": null,
       "grid_auto_flow": null,
       "grid_auto_rows": null,
       "grid_column": null,
       "grid_gap": null,
       "grid_row": null,
       "grid_template_areas": null,
       "grid_template_columns": null,
       "grid_template_rows": null,
       "height": null,
       "justify_content": null,
       "justify_items": null,
       "left": null,
       "margin": null,
       "max_height": null,
       "max_width": null,
       "min_height": null,
       "min_width": null,
       "object_fit": null,
       "object_position": null,
       "order": null,
       "overflow": null,
       "padding": null,
       "right": null,
       "top": null,
       "visibility": null,
       "width": null
      }
     },
     "ddbaed494cb54e7bb3b27e60449d3262": {
      "model_module": "@jupyter-widgets/base",
      "model_module_version": "2.0.0",
      "model_name": "LayoutModel",
      "state": {
       "_model_module": "@jupyter-widgets/base",
       "_model_module_version": "2.0.0",
       "_model_name": "LayoutModel",
       "_view_count": null,
       "_view_module": "@jupyter-widgets/base",
       "_view_module_version": "2.0.0",
       "_view_name": "LayoutView",
       "align_content": null,
       "align_items": null,
       "align_self": null,
       "border_bottom": null,
       "border_left": null,
       "border_right": null,
       "border_top": null,
       "bottom": null,
       "display": null,
       "flex": null,
       "flex_flow": null,
       "grid_area": null,
       "grid_auto_columns": null,
       "grid_auto_flow": null,
       "grid_auto_rows": null,
       "grid_column": null,
       "grid_gap": null,
       "grid_row": null,
       "grid_template_areas": null,
       "grid_template_columns": null,
       "grid_template_rows": null,
       "height": null,
       "justify_content": null,
       "justify_items": null,
       "left": null,
       "margin": null,
       "max_height": null,
       "max_width": null,
       "min_height": null,
       "min_width": null,
       "object_fit": null,
       "object_position": null,
       "order": null,
       "overflow": null,
       "padding": null,
       "right": null,
       "top": null,
       "visibility": null,
       "width": null
      }
     },
     "e297a0eec15348198bdac34ff458b80e": {
      "model_module": "@jupyter-widgets/base",
      "model_module_version": "2.0.0",
      "model_name": "LayoutModel",
      "state": {
       "_model_module": "@jupyter-widgets/base",
       "_model_module_version": "2.0.0",
       "_model_name": "LayoutModel",
       "_view_count": null,
       "_view_module": "@jupyter-widgets/base",
       "_view_module_version": "2.0.0",
       "_view_name": "LayoutView",
       "align_content": null,
       "align_items": null,
       "align_self": null,
       "border_bottom": null,
       "border_left": null,
       "border_right": null,
       "border_top": null,
       "bottom": null,
       "display": null,
       "flex": null,
       "flex_flow": null,
       "grid_area": null,
       "grid_auto_columns": null,
       "grid_auto_flow": null,
       "grid_auto_rows": null,
       "grid_column": null,
       "grid_gap": null,
       "grid_row": null,
       "grid_template_areas": null,
       "grid_template_columns": null,
       "grid_template_rows": null,
       "height": null,
       "justify_content": null,
       "justify_items": null,
       "left": null,
       "margin": null,
       "max_height": null,
       "max_width": null,
       "min_height": null,
       "min_width": null,
       "object_fit": null,
       "object_position": null,
       "order": null,
       "overflow": null,
       "padding": null,
       "right": null,
       "top": null,
       "visibility": null,
       "width": null
      }
     },
     "e89f71dd92be42bf96eb47578dbaf3a2": {
      "model_module": "@jupyter-widgets/controls",
      "model_module_version": "2.0.0",
      "model_name": "HTMLModel",
      "state": {
       "_dom_classes": [],
       "_model_module": "@jupyter-widgets/controls",
       "_model_module_version": "2.0.0",
       "_model_name": "HTMLModel",
       "_view_count": null,
       "_view_module": "@jupyter-widgets/controls",
       "_view_module_version": "2.0.0",
       "_view_name": "HTMLView",
       "description": "",
       "description_allow_html": false,
       "layout": "IPY_MODEL_c6dc5b518bd648e8a86b0fd4e5fb112d",
       "placeholder": "​",
       "style": "IPY_MODEL_2fc8e5015d9446bb88cee2b2d9116dbc",
       "tabbable": null,
       "tooltip": null,
       "value": "tokenizer.json: 100%"
      }
     },
     "e95da6eb129344c783a1f1289d8918d9": {
      "model_module": "@jupyter-widgets/controls",
      "model_module_version": "2.0.0",
      "model_name": "HBoxModel",
      "state": {
       "_dom_classes": [],
       "_model_module": "@jupyter-widgets/controls",
       "_model_module_version": "2.0.0",
       "_model_name": "HBoxModel",
       "_view_count": null,
       "_view_module": "@jupyter-widgets/controls",
       "_view_module_version": "2.0.0",
       "_view_name": "HBoxView",
       "box_style": "",
       "children": [
        "IPY_MODEL_39e6ae92e72e40fe848451912fd1b0cc",
        "IPY_MODEL_058121d2daa84c98b4e3cd78c0f13f76",
        "IPY_MODEL_b83067a39bcb41a6914a0c959ce2248c"
       ],
       "layout": "IPY_MODEL_7cc9689ee0ae4798811ae5be2ce1ced5",
       "tabbable": null,
       "tooltip": null
      }
     },
     "eeb4695f6eef4d02a2a03efab0524dee": {
      "model_module": "@jupyter-widgets/controls",
      "model_module_version": "2.0.0",
      "model_name": "HTMLStyleModel",
      "state": {
       "_model_module": "@jupyter-widgets/controls",
       "_model_module_version": "2.0.0",
       "_model_name": "HTMLStyleModel",
       "_view_count": null,
       "_view_module": "@jupyter-widgets/base",
       "_view_module_version": "2.0.0",
       "_view_name": "StyleView",
       "background": null,
       "description_width": "",
       "font_size": null,
       "text_color": null
      }
     },
     "f65ff5a58f3b44199f55ec00924e2968": {
      "model_module": "@jupyter-widgets/controls",
      "model_module_version": "2.0.0",
      "model_name": "ProgressStyleModel",
      "state": {
       "_model_module": "@jupyter-widgets/controls",
       "_model_module_version": "2.0.0",
       "_model_name": "ProgressStyleModel",
       "_view_count": null,
       "_view_module": "@jupyter-widgets/base",
       "_view_module_version": "2.0.0",
       "_view_name": "StyleView",
       "bar_color": null,
       "description_width": ""
      }
     },
     "f86e6640c9d34039a9c5c50d179f9b83": {
      "model_module": "@jupyter-widgets/base",
      "model_module_version": "2.0.0",
      "model_name": "LayoutModel",
      "state": {
       "_model_module": "@jupyter-widgets/base",
       "_model_module_version": "2.0.0",
       "_model_name": "LayoutModel",
       "_view_count": null,
       "_view_module": "@jupyter-widgets/base",
       "_view_module_version": "2.0.0",
       "_view_name": "LayoutView",
       "align_content": null,
       "align_items": null,
       "align_self": null,
       "border_bottom": null,
       "border_left": null,
       "border_right": null,
       "border_top": null,
       "bottom": null,
       "display": null,
       "flex": null,
       "flex_flow": null,
       "grid_area": null,
       "grid_auto_columns": null,
       "grid_auto_flow": null,
       "grid_auto_rows": null,
       "grid_column": null,
       "grid_gap": null,
       "grid_row": null,
       "grid_template_areas": null,
       "grid_template_columns": null,
       "grid_template_rows": null,
       "height": null,
       "justify_content": null,
       "justify_items": null,
       "left": null,
       "margin": null,
       "max_height": null,
       "max_width": null,
       "min_height": null,
       "min_width": null,
       "object_fit": null,
       "object_position": null,
       "order": null,
       "overflow": null,
       "padding": null,
       "right": null,
       "top": null,
       "visibility": null,
       "width": null
      }
     },
     "fce02a4c9581480d8a0721df784fbe2d": {
      "model_module": "@jupyter-widgets/base",
      "model_module_version": "2.0.0",
      "model_name": "LayoutModel",
      "state": {
       "_model_module": "@jupyter-widgets/base",
       "_model_module_version": "2.0.0",
       "_model_name": "LayoutModel",
       "_view_count": null,
       "_view_module": "@jupyter-widgets/base",
       "_view_module_version": "2.0.0",
       "_view_name": "LayoutView",
       "align_content": null,
       "align_items": null,
       "align_self": null,
       "border_bottom": null,
       "border_left": null,
       "border_right": null,
       "border_top": null,
       "bottom": null,
       "display": null,
       "flex": null,
       "flex_flow": null,
       "grid_area": null,
       "grid_auto_columns": null,
       "grid_auto_flow": null,
       "grid_auto_rows": null,
       "grid_column": null,
       "grid_gap": null,
       "grid_row": null,
       "grid_template_areas": null,
       "grid_template_columns": null,
       "grid_template_rows": null,
       "height": null,
       "justify_content": null,
       "justify_items": null,
       "left": null,
       "margin": null,
       "max_height": null,
       "max_width": null,
       "min_height": null,
       "min_width": null,
       "object_fit": null,
       "object_position": null,
       "order": null,
       "overflow": null,
       "padding": null,
       "right": null,
       "top": null,
       "visibility": null,
       "width": null
      }
     }
    },
    "version_major": 2,
    "version_minor": 0
   }
  }
 },
 "nbformat": 4,
 "nbformat_minor": 5
}
